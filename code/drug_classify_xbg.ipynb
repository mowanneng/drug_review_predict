{
 "cells": [
  {
   "cell_type": "code",
   "execution_count": 1,
   "id": "ddad0c2d",
   "metadata": {},
   "outputs": [
    {
     "name": "stderr",
     "output_type": "stream",
     "text": [
      "F:\\SoftwareInstall\\Anaconda\\envs\\pytorch\\lib\\site-packages\\xgboost\\compat.py:36: FutureWarning: pandas.Int64Index is deprecated and will be removed from pandas in a future version. Use pandas.Index with the appropriate dtype instead.\n",
      "  from pandas import MultiIndex, Int64Index\n"
     ]
    }
   ],
   "source": [
    "import pandas as pd\n",
    "from xgboost.sklearn import XGBClassifier\n",
    "from sklearn.metrics import classification_report\n",
    "from sklearn.metrics import f1_score, precision_score, recall_score\n",
    "from data_process import DataProcess\n",
    "from data_process import GetUsefulLevel\n",
    "import os\n",
    "from imblearn.over_sampling import SMOTE\n",
    "from sklearn.model_selection import GridSearchCV"
   ]
  },
  {
   "cell_type": "code",
   "execution_count": 121,
   "id": "66da9481",
   "metadata": {},
   "outputs": [],
   "source": [
    "def print_precison_recall_f1(y_true, y_pre):\n",
    "    \"\"\"打印精准率、召回率和F1值\"\"\"\n",
    "    score=dict()\n",
    "    print(classification_report(y_true, y_pre))\n",
    "    f1_mac = round(f1_score(y_true, y_pre, average='macro'), 5)\n",
    "    p_mac = round(precision_score(y_true, y_pre, average='macro'), 5)\n",
    "    r_mac = round(recall_score(y_true, y_pre, average='macro'), 5)\n",
    "    \n",
    "    print(\"Precision_mac: {}, Recall_mac: {}, F1_mac: {} \".format(p_mac, r_mac, f1_mac))\n",
    "\n",
    "    f1_mic = round(f1_score(y_true, y_pre, average='micro'), 5)\n",
    "    p_mic = round(precision_score(y_true, y_pre, average='micro'), 5)\n",
    "    r_mic = round(recall_score(y_true, y_pre, average='micro'), 5)\n",
    "    print(\"Precision_mic: {}, Recall_mic: {}, F1_mic: {} \".format(p_mic, r_mic, f1_mic))\n",
    "    score={'macro':{'f1_mac':f1_mac,'p_mac':p_mac,'r_mac':r_mac},'micro':{'f1_mic':f1_mic,'p_mic':p_mic,'r_mic':r_mic}}\n",
    "    return score\n",
    "\n",
    "def get_data(path):\n",
    "    df = pd.read_csv(path)\n",
    "    df.dropna(axis=0, how='any', inplace=True)\n",
    "    data_process = DataProcess()\n",
    "    df['reviewComment'] = df['reviewComment'].map(data_process.text_replace)  # 替换评论数据中的乱码字符\n",
    "    df['reviewComment'] = df['reviewComment'].map(data_process.sen_analy)  # 获取评论数据情感倾向\n",
    "    df['date'] = df['date'].map(data_process.time_format)  # 获取年份数据\n",
    "    df.drop(labels=None, axis=1, index=None, columns='recordId', inplace=True)\n",
    "\n",
    "    useful_level = GetUsefulLevel(df['usefulCount'])\n",
    "    df['usefulCount'] = df['usefulCount'].map(useful_level.get_current_level)  # 获取count的分级，分为10级\n",
    "    df['drugName'] = data_process.target_encoder(df['drugName'], df['rating'])  # 对drugName进行目标编码\n",
    "    df['condition'] = data_process.target_encoder(df['condition'], df['rating'])  # 对condition进行目标编码\n",
    "    df['sideEffects'] = data_process.side_effect_level(df['sideEffects'])  # 对sideEffects划分等级\n",
    "    return df\n",
    "\n",
    "def xgb_train(x_train,y_train):    \n",
    "    xgboost_clf = XGBClassifier(learning_rate=0.1,min_child_weight=6, max_depth=15,\n",
    "                               objective='multi:softmax', num_class=5)\n",
    "    \n",
    "    xgboost_clf.fit(x_train, y_train)\n",
    "#     best_model=gsearch.best_estimator_\n",
    "    # feature_importances_ = xgboost_clf.feature_importances_\n",
    "    return xgboost_clf"
   ]
  },
  {
   "cell_type": "code",
   "execution_count": 3,
   "id": "b51547cc",
   "metadata": {},
   "outputs": [],
   "source": [
    "path=r'D:\\Python\\drug_review_predict\\dataset'\n",
    "train_path=os.path.join(path,'training.csv')\n",
    "val_path = os.path.join(path, 'validation.csv')\n",
    "# train_data=get_data(train_path)    "
   ]
  },
  {
   "cell_type": "code",
   "execution_count": 38,
   "id": "ff74e30d",
   "metadata": {},
   "outputs": [],
   "source": [
    "df=pd.read_csv(train_path)"
   ]
  },
  {
   "cell_type": "code",
   "execution_count": 39,
   "id": "41c56cc8",
   "metadata": {
    "scrolled": true
   },
   "outputs": [
    {
     "data": {
      "text/html": [
       "<div>\n",
       "<style scoped>\n",
       "    .dataframe tbody tr th:only-of-type {\n",
       "        vertical-align: middle;\n",
       "    }\n",
       "\n",
       "    .dataframe tbody tr th {\n",
       "        vertical-align: top;\n",
       "    }\n",
       "\n",
       "    .dataframe thead th {\n",
       "        text-align: right;\n",
       "    }\n",
       "</style>\n",
       "<table border=\"1\" class=\"dataframe\">\n",
       "  <thead>\n",
       "    <tr style=\"text-align: right;\">\n",
       "      <th></th>\n",
       "      <th>recordId</th>\n",
       "      <th>drugName</th>\n",
       "      <th>condition</th>\n",
       "      <th>reviewComment</th>\n",
       "      <th>date</th>\n",
       "      <th>usefulCount</th>\n",
       "      <th>sideEffects</th>\n",
       "      <th>rating</th>\n",
       "    </tr>\n",
       "  </thead>\n",
       "  <tbody>\n",
       "    <tr>\n",
       "      <th>0</th>\n",
       "      <td>163740</td>\n",
       "      <td>Mirtazapine</td>\n",
       "      <td>Depression</td>\n",
       "      <td>\"I&amp;#039;ve tried a few antidepressants over th...</td>\n",
       "      <td>February 28, 2012</td>\n",
       "      <td>22</td>\n",
       "      <td>Mild Side Effects</td>\n",
       "      <td>5</td>\n",
       "    </tr>\n",
       "    <tr>\n",
       "      <th>1</th>\n",
       "      <td>206473</td>\n",
       "      <td>Mesalamine</td>\n",
       "      <td>Crohn's Disease, Maintenance</td>\n",
       "      <td>\"My son has Crohn&amp;#039;s disease and has done ...</td>\n",
       "      <td>May 17, 2009</td>\n",
       "      <td>17</td>\n",
       "      <td>Severe Side Effects</td>\n",
       "      <td>4</td>\n",
       "    </tr>\n",
       "    <tr>\n",
       "      <th>2</th>\n",
       "      <td>159672</td>\n",
       "      <td>Bactrim</td>\n",
       "      <td>Urinary Tract Infection</td>\n",
       "      <td>\"Quick reduction of symptoms\"</td>\n",
       "      <td>September 29, 2017</td>\n",
       "      <td>3</td>\n",
       "      <td>No Side Effects</td>\n",
       "      <td>5</td>\n",
       "    </tr>\n",
       "    <tr>\n",
       "      <th>3</th>\n",
       "      <td>39293</td>\n",
       "      <td>Contrave</td>\n",
       "      <td>Weight Loss</td>\n",
       "      <td>\"Contrave combines drugs that were used for al...</td>\n",
       "      <td>March 5, 2017</td>\n",
       "      <td>35</td>\n",
       "      <td>Mild Side Effects</td>\n",
       "      <td>5</td>\n",
       "    </tr>\n",
       "    <tr>\n",
       "      <th>4</th>\n",
       "      <td>97768</td>\n",
       "      <td>Cyclafem 1 / 35</td>\n",
       "      <td>Birth Control</td>\n",
       "      <td>\"I have been on this birth control for one cyc...</td>\n",
       "      <td>October 22, 2015</td>\n",
       "      <td>4</td>\n",
       "      <td>Severe Side Effects</td>\n",
       "      <td>5</td>\n",
       "    </tr>\n",
       "    <tr>\n",
       "      <th>...</th>\n",
       "      <td>...</td>\n",
       "      <td>...</td>\n",
       "      <td>...</td>\n",
       "      <td>...</td>\n",
       "      <td>...</td>\n",
       "      <td>...</td>\n",
       "      <td>...</td>\n",
       "      <td>...</td>\n",
       "    </tr>\n",
       "    <tr>\n",
       "      <th>6994</th>\n",
       "      <td>21322</td>\n",
       "      <td>Rivastigmine</td>\n",
       "      <td>Alzheimer's Disease</td>\n",
       "      <td>\"I have 7 Immediate Family members that had Al...</td>\n",
       "      <td>February 2, 2016</td>\n",
       "      <td>11</td>\n",
       "      <td>Mild Side Effects</td>\n",
       "      <td>5</td>\n",
       "    </tr>\n",
       "    <tr>\n",
       "      <th>6995</th>\n",
       "      <td>172273</td>\n",
       "      <td>Clonazepam</td>\n",
       "      <td>Periodic Limb Movement Disorde</td>\n",
       "      <td>\"Started on 0.5 mg at bedtime for possible res...</td>\n",
       "      <td>May 20, 2017</td>\n",
       "      <td>0</td>\n",
       "      <td>No Side Effects</td>\n",
       "      <td>4</td>\n",
       "    </tr>\n",
       "    <tr>\n",
       "      <th>6996</th>\n",
       "      <td>29177</td>\n",
       "      <td>Topiramate</td>\n",
       "      <td>Obesity</td>\n",
       "      <td>\"I am on day 4 now and I am pretty spacey.  I ...</td>\n",
       "      <td>December 18, 2016</td>\n",
       "      <td>79</td>\n",
       "      <td>Mild Side Effects</td>\n",
       "      <td>5</td>\n",
       "    </tr>\n",
       "    <tr>\n",
       "      <th>6997</th>\n",
       "      <td>197612</td>\n",
       "      <td>Suprep Bowel Prep Kit</td>\n",
       "      <td>Bowel Preparation</td>\n",
       "      <td>\"I could only complete the first session. With...</td>\n",
       "      <td>December 9, 2017</td>\n",
       "      <td>1</td>\n",
       "      <td>No Side Effects</td>\n",
       "      <td>1</td>\n",
       "    </tr>\n",
       "    <tr>\n",
       "      <th>6998</th>\n",
       "      <td>24340</td>\n",
       "      <td>Telaprevir</td>\n",
       "      <td>Hepatitis C</td>\n",
       "      <td>\"I am now a three time partial responder, my e...</td>\n",
       "      <td>June 26, 2013</td>\n",
       "      <td>2</td>\n",
       "      <td>No Side Effects</td>\n",
       "      <td>3</td>\n",
       "    </tr>\n",
       "  </tbody>\n",
       "</table>\n",
       "<p>6999 rows × 8 columns</p>\n",
       "</div>"
      ],
      "text/plain": [
       "      recordId               drugName                       condition  \\\n",
       "0       163740            Mirtazapine                      Depression   \n",
       "1       206473             Mesalamine    Crohn's Disease, Maintenance   \n",
       "2       159672                Bactrim         Urinary Tract Infection   \n",
       "3        39293               Contrave                     Weight Loss   \n",
       "4        97768        Cyclafem 1 / 35                   Birth Control   \n",
       "...        ...                    ...                             ...   \n",
       "6994     21322           Rivastigmine             Alzheimer's Disease   \n",
       "6995    172273             Clonazepam  Periodic Limb Movement Disorde   \n",
       "6996     29177             Topiramate                         Obesity   \n",
       "6997    197612  Suprep Bowel Prep Kit               Bowel Preparation   \n",
       "6998     24340             Telaprevir                     Hepatitis C   \n",
       "\n",
       "                                          reviewComment                date  \\\n",
       "0     \"I&#039;ve tried a few antidepressants over th...   February 28, 2012   \n",
       "1     \"My son has Crohn&#039;s disease and has done ...        May 17, 2009   \n",
       "2                         \"Quick reduction of symptoms\"  September 29, 2017   \n",
       "3     \"Contrave combines drugs that were used for al...       March 5, 2017   \n",
       "4     \"I have been on this birth control for one cyc...    October 22, 2015   \n",
       "...                                                 ...                 ...   \n",
       "6994  \"I have 7 Immediate Family members that had Al...    February 2, 2016   \n",
       "6995  \"Started on 0.5 mg at bedtime for possible res...        May 20, 2017   \n",
       "6996  \"I am on day 4 now and I am pretty spacey.  I ...   December 18, 2016   \n",
       "6997  \"I could only complete the first session. With...    December 9, 2017   \n",
       "6998  \"I am now a three time partial responder, my e...       June 26, 2013   \n",
       "\n",
       "      usefulCount          sideEffects  rating  \n",
       "0              22    Mild Side Effects       5  \n",
       "1              17  Severe Side Effects       4  \n",
       "2               3      No Side Effects       5  \n",
       "3              35    Mild Side Effects       5  \n",
       "4               4  Severe Side Effects       5  \n",
       "...           ...                  ...     ...  \n",
       "6994           11    Mild Side Effects       5  \n",
       "6995            0      No Side Effects       4  \n",
       "6996           79    Mild Side Effects       5  \n",
       "6997            1      No Side Effects       1  \n",
       "6998            2      No Side Effects       3  \n",
       "\n",
       "[6999 rows x 8 columns]"
      ]
     },
     "execution_count": 39,
     "metadata": {},
     "output_type": "execute_result"
    }
   ],
   "source": [
    "df"
   ]
  },
  {
   "cell_type": "code",
   "execution_count": 40,
   "id": "bd71594d",
   "metadata": {},
   "outputs": [],
   "source": [
    "def text_replace(text,word='&#039;'):\n",
    "    return text.replace(word, \"'\")"
   ]
  },
  {
   "cell_type": "code",
   "execution_count": 42,
   "id": "fea5c8b2",
   "metadata": {},
   "outputs": [
    {
     "data": {
      "text/html": [
       "<div>\n",
       "<style scoped>\n",
       "    .dataframe tbody tr th:only-of-type {\n",
       "        vertical-align: middle;\n",
       "    }\n",
       "\n",
       "    .dataframe tbody tr th {\n",
       "        vertical-align: top;\n",
       "    }\n",
       "\n",
       "    .dataframe thead th {\n",
       "        text-align: right;\n",
       "    }\n",
       "</style>\n",
       "<table border=\"1\" class=\"dataframe\">\n",
       "  <thead>\n",
       "    <tr style=\"text-align: right;\">\n",
       "      <th></th>\n",
       "      <th>recordId</th>\n",
       "      <th>drugName</th>\n",
       "      <th>condition</th>\n",
       "      <th>reviewComment</th>\n",
       "      <th>date</th>\n",
       "      <th>usefulCount</th>\n",
       "      <th>sideEffects</th>\n",
       "      <th>rating</th>\n",
       "    </tr>\n",
       "  </thead>\n",
       "  <tbody>\n",
       "    <tr>\n",
       "      <th>0</th>\n",
       "      <td>163740</td>\n",
       "      <td>Mirtazapine</td>\n",
       "      <td>Depression</td>\n",
       "      <td>\"I've tried a few antidepressants over the yea...</td>\n",
       "      <td>February 28, 2012</td>\n",
       "      <td>22</td>\n",
       "      <td>Mild Side Effects</td>\n",
       "      <td>5</td>\n",
       "    </tr>\n",
       "    <tr>\n",
       "      <th>1</th>\n",
       "      <td>206473</td>\n",
       "      <td>Mesalamine</td>\n",
       "      <td>Crohn's Disease, Maintenance</td>\n",
       "      <td>\"My son has Crohn's disease and has done very ...</td>\n",
       "      <td>May 17, 2009</td>\n",
       "      <td>17</td>\n",
       "      <td>Severe Side Effects</td>\n",
       "      <td>4</td>\n",
       "    </tr>\n",
       "    <tr>\n",
       "      <th>2</th>\n",
       "      <td>159672</td>\n",
       "      <td>Bactrim</td>\n",
       "      <td>Urinary Tract Infection</td>\n",
       "      <td>\"Quick reduction of symptoms\"</td>\n",
       "      <td>September 29, 2017</td>\n",
       "      <td>3</td>\n",
       "      <td>No Side Effects</td>\n",
       "      <td>5</td>\n",
       "    </tr>\n",
       "    <tr>\n",
       "      <th>3</th>\n",
       "      <td>39293</td>\n",
       "      <td>Contrave</td>\n",
       "      <td>Weight Loss</td>\n",
       "      <td>\"Contrave combines drugs that were used for al...</td>\n",
       "      <td>March 5, 2017</td>\n",
       "      <td>35</td>\n",
       "      <td>Mild Side Effects</td>\n",
       "      <td>5</td>\n",
       "    </tr>\n",
       "    <tr>\n",
       "      <th>4</th>\n",
       "      <td>97768</td>\n",
       "      <td>Cyclafem 1 / 35</td>\n",
       "      <td>Birth Control</td>\n",
       "      <td>\"I have been on this birth control for one cyc...</td>\n",
       "      <td>October 22, 2015</td>\n",
       "      <td>4</td>\n",
       "      <td>Severe Side Effects</td>\n",
       "      <td>5</td>\n",
       "    </tr>\n",
       "    <tr>\n",
       "      <th>...</th>\n",
       "      <td>...</td>\n",
       "      <td>...</td>\n",
       "      <td>...</td>\n",
       "      <td>...</td>\n",
       "      <td>...</td>\n",
       "      <td>...</td>\n",
       "      <td>...</td>\n",
       "      <td>...</td>\n",
       "    </tr>\n",
       "    <tr>\n",
       "      <th>6994</th>\n",
       "      <td>21322</td>\n",
       "      <td>Rivastigmine</td>\n",
       "      <td>Alzheimer's Disease</td>\n",
       "      <td>\"I have 7 Immediate Family members that had Al...</td>\n",
       "      <td>February 2, 2016</td>\n",
       "      <td>11</td>\n",
       "      <td>Mild Side Effects</td>\n",
       "      <td>5</td>\n",
       "    </tr>\n",
       "    <tr>\n",
       "      <th>6995</th>\n",
       "      <td>172273</td>\n",
       "      <td>Clonazepam</td>\n",
       "      <td>Periodic Limb Movement Disorde</td>\n",
       "      <td>\"Started on 0.5 mg at bedtime for possible res...</td>\n",
       "      <td>May 20, 2017</td>\n",
       "      <td>0</td>\n",
       "      <td>No Side Effects</td>\n",
       "      <td>4</td>\n",
       "    </tr>\n",
       "    <tr>\n",
       "      <th>6996</th>\n",
       "      <td>29177</td>\n",
       "      <td>Topiramate</td>\n",
       "      <td>Obesity</td>\n",
       "      <td>\"I am on day 4 now and I am pretty spacey.  I ...</td>\n",
       "      <td>December 18, 2016</td>\n",
       "      <td>79</td>\n",
       "      <td>Mild Side Effects</td>\n",
       "      <td>5</td>\n",
       "    </tr>\n",
       "    <tr>\n",
       "      <th>6997</th>\n",
       "      <td>197612</td>\n",
       "      <td>Suprep Bowel Prep Kit</td>\n",
       "      <td>Bowel Preparation</td>\n",
       "      <td>\"I could only complete the first session. With...</td>\n",
       "      <td>December 9, 2017</td>\n",
       "      <td>1</td>\n",
       "      <td>No Side Effects</td>\n",
       "      <td>1</td>\n",
       "    </tr>\n",
       "    <tr>\n",
       "      <th>6998</th>\n",
       "      <td>24340</td>\n",
       "      <td>Telaprevir</td>\n",
       "      <td>Hepatitis C</td>\n",
       "      <td>\"I am now a three time partial responder, my e...</td>\n",
       "      <td>June 26, 2013</td>\n",
       "      <td>2</td>\n",
       "      <td>No Side Effects</td>\n",
       "      <td>3</td>\n",
       "    </tr>\n",
       "  </tbody>\n",
       "</table>\n",
       "<p>6999 rows × 8 columns</p>\n",
       "</div>"
      ],
      "text/plain": [
       "      recordId               drugName                       condition  \\\n",
       "0       163740            Mirtazapine                      Depression   \n",
       "1       206473             Mesalamine    Crohn's Disease, Maintenance   \n",
       "2       159672                Bactrim         Urinary Tract Infection   \n",
       "3        39293               Contrave                     Weight Loss   \n",
       "4        97768        Cyclafem 1 / 35                   Birth Control   \n",
       "...        ...                    ...                             ...   \n",
       "6994     21322           Rivastigmine             Alzheimer's Disease   \n",
       "6995    172273             Clonazepam  Periodic Limb Movement Disorde   \n",
       "6996     29177             Topiramate                         Obesity   \n",
       "6997    197612  Suprep Bowel Prep Kit               Bowel Preparation   \n",
       "6998     24340             Telaprevir                     Hepatitis C   \n",
       "\n",
       "                                          reviewComment                date  \\\n",
       "0     \"I've tried a few antidepressants over the yea...   February 28, 2012   \n",
       "1     \"My son has Crohn's disease and has done very ...        May 17, 2009   \n",
       "2                         \"Quick reduction of symptoms\"  September 29, 2017   \n",
       "3     \"Contrave combines drugs that were used for al...       March 5, 2017   \n",
       "4     \"I have been on this birth control for one cyc...    October 22, 2015   \n",
       "...                                                 ...                 ...   \n",
       "6994  \"I have 7 Immediate Family members that had Al...    February 2, 2016   \n",
       "6995  \"Started on 0.5 mg at bedtime for possible res...        May 20, 2017   \n",
       "6996  \"I am on day 4 now and I am pretty spacey.  I ...   December 18, 2016   \n",
       "6997  \"I could only complete the first session. With...    December 9, 2017   \n",
       "6998  \"I am now a three time partial responder, my e...       June 26, 2013   \n",
       "\n",
       "      usefulCount          sideEffects  rating  \n",
       "0              22    Mild Side Effects       5  \n",
       "1              17  Severe Side Effects       4  \n",
       "2               3      No Side Effects       5  \n",
       "3              35    Mild Side Effects       5  \n",
       "4               4  Severe Side Effects       5  \n",
       "...           ...                  ...     ...  \n",
       "6994           11    Mild Side Effects       5  \n",
       "6995            0      No Side Effects       4  \n",
       "6996           79    Mild Side Effects       5  \n",
       "6997            1      No Side Effects       1  \n",
       "6998            2      No Side Effects       3  \n",
       "\n",
       "[6999 rows x 8 columns]"
      ]
     },
     "execution_count": 42,
     "metadata": {},
     "output_type": "execute_result"
    }
   ],
   "source": [
    "df['reviewComment']=df['reviewComment'].map(text_replace)"
   ]
  },
  {
   "cell_type": "code",
   "execution_count": 50,
   "id": "bbf18691",
   "metadata": {},
   "outputs": [
    {
     "data": {
      "text/plain": [
       "5"
      ]
     },
     "execution_count": 50,
     "metadata": {},
     "output_type": "execute_result"
    }
   ],
   "source": [
    "len(df['sideEffects'].unique())"
   ]
  },
  {
   "cell_type": "code",
   "execution_count": 49,
   "id": "ff3f8f89",
   "metadata": {},
   "outputs": [
    {
     "data": {
      "text/plain": [
       "count    6999.000000\n",
       "mean       28.189027\n",
       "std        40.007725\n",
       "min         0.000000\n",
       "25%         6.000000\n",
       "50%        16.000000\n",
       "75%        35.000000\n",
       "max       949.000000\n",
       "Name: usefulCount, dtype: float64"
      ]
     },
     "execution_count": 49,
     "metadata": {},
     "output_type": "execute_result"
    }
   ],
   "source": [
    "df['usefulCount'].describe()"
   ]
  },
  {
   "cell_type": "code",
   "execution_count": null,
   "id": "7bb087bd",
   "metadata": {},
   "outputs": [],
   "source": [
    "counts=df['rating'].value_counts()"
   ]
  },
  {
   "cell_type": "code",
   "execution_count": 23,
   "id": "d3dd72e3",
   "metadata": {},
   "outputs": [
    {
     "data": {
      "text/plain": [
       "5    3425\n",
       "1    1276\n",
       "4    1196\n",
       "3     592\n",
       "2     510\n",
       "Name: rating, dtype: int64"
      ]
     },
     "execution_count": 23,
     "metadata": {},
     "output_type": "execute_result"
    }
   ],
   "source": [
    "counts"
   ]
  },
  {
   "cell_type": "code",
   "execution_count": 22,
   "id": "e9770919",
   "metadata": {},
   "outputs": [
    {
     "data": {
      "image/png": "[encoded data removed]",
      "text/plain": [
       "<Figure size 864x576 with 1 Axes>"
      ]
     },
     "metadata": {
      "needs_background": "light"
     },
     "output_type": "display_data"
    }
   ],
   "source": [
    "import matplotlib.pyplot as plt\n",
    "plt.figure(figsize=(12, 8))\n",
    "plt.bar(counts.index,counts.values)\n",
    "for x, y in zip(counts.index, counts.values):\n",
    "    plt.text(x, y + 3, \"%s\" % y)\n"
   ]
  },
  {
   "cell_type": "code",
   "execution_count": 103,
   "id": "7133fbaa",
   "metadata": {},
   "outputs": [
    {
     "data": {
      "text/html": [
       "<div>\n",
       "<style scoped>\n",
       "    .dataframe tbody tr th:only-of-type {\n",
       "        vertical-align: middle;\n",
       "    }\n",
       "\n",
       "    .dataframe tbody tr th {\n",
       "        vertical-align: top;\n",
       "    }\n",
       "\n",
       "    .dataframe thead th {\n",
       "        text-align: right;\n",
       "    }\n",
       "</style>\n",
       "<table border=\"1\" class=\"dataframe\">\n",
       "  <thead>\n",
       "    <tr style=\"text-align: right;\">\n",
       "      <th></th>\n",
       "      <th>drugName</th>\n",
       "      <th>condition</th>\n",
       "      <th>reviewComment</th>\n",
       "      <th>date</th>\n",
       "      <th>usefulCount</th>\n",
       "      <th>sideEffects</th>\n",
       "      <th>rating</th>\n",
       "    </tr>\n",
       "  </thead>\n",
       "  <tbody>\n",
       "    <tr>\n",
       "      <th>0</th>\n",
       "      <td>3.964286</td>\n",
       "      <td>3.789227</td>\n",
       "      <td>0.000000</td>\n",
       "      <td>2012</td>\n",
       "      <td>13</td>\n",
       "      <td>1</td>\n",
       "      <td>5</td>\n",
       "    </tr>\n",
       "    <tr>\n",
       "      <th>1</th>\n",
       "      <td>4.249512</td>\n",
       "      <td>3.444535</td>\n",
       "      <td>0.566667</td>\n",
       "      <td>2009</td>\n",
       "      <td>11</td>\n",
       "      <td>3</td>\n",
       "      <td>4</td>\n",
       "    </tr>\n",
       "    <tr>\n",
       "      <th>2</th>\n",
       "      <td>3.562500</td>\n",
       "      <td>2.839286</td>\n",
       "      <td>0.333333</td>\n",
       "      <td>2017</td>\n",
       "      <td>4</td>\n",
       "      <td>0</td>\n",
       "      <td>5</td>\n",
       "    </tr>\n",
       "    <tr>\n",
       "      <th>3</th>\n",
       "      <td>4.000000</td>\n",
       "      <td>4.329670</td>\n",
       "      <td>0.139063</td>\n",
       "      <td>2017</td>\n",
       "      <td>16</td>\n",
       "      <td>1</td>\n",
       "      <td>5</td>\n",
       "    </tr>\n",
       "    <tr>\n",
       "      <th>4</th>\n",
       "      <td>2.791563</td>\n",
       "      <td>3.287747</td>\n",
       "      <td>0.260926</td>\n",
       "      <td>2015</td>\n",
       "      <td>4</td>\n",
       "      <td>3</td>\n",
       "      <td>5</td>\n",
       "    </tr>\n",
       "    <tr>\n",
       "      <th>...</th>\n",
       "      <td>...</td>\n",
       "      <td>...</td>\n",
       "      <td>...</td>\n",
       "      <td>...</td>\n",
       "      <td>...</td>\n",
       "      <td>...</td>\n",
       "      <td>...</td>\n",
       "    </tr>\n",
       "    <tr>\n",
       "      <th>6994</th>\n",
       "      <td>3.714429</td>\n",
       "      <td>3.501435</td>\n",
       "      <td>0.143056</td>\n",
       "      <td>2016</td>\n",
       "      <td>9</td>\n",
       "      <td>1</td>\n",
       "      <td>5</td>\n",
       "    </tr>\n",
       "    <tr>\n",
       "      <th>6995</th>\n",
       "      <td>4.266667</td>\n",
       "      <td>3.085162</td>\n",
       "      <td>0.133929</td>\n",
       "      <td>2017</td>\n",
       "      <td>1</td>\n",
       "      <td>0</td>\n",
       "      <td>4</td>\n",
       "    </tr>\n",
       "    <tr>\n",
       "      <th>6996</th>\n",
       "      <td>3.111111</td>\n",
       "      <td>4.100000</td>\n",
       "      <td>0.089464</td>\n",
       "      <td>2016</td>\n",
       "      <td>19</td>\n",
       "      <td>1</td>\n",
       "      <td>5</td>\n",
       "    </tr>\n",
       "    <tr>\n",
       "      <th>6997</th>\n",
       "      <td>4.024390</td>\n",
       "      <td>3.814815</td>\n",
       "      <td>0.076042</td>\n",
       "      <td>2017</td>\n",
       "      <td>2</td>\n",
       "      <td>0</td>\n",
       "      <td>1</td>\n",
       "    </tr>\n",
       "    <tr>\n",
       "      <th>6998</th>\n",
       "      <td>3.714429</td>\n",
       "      <td>4.387097</td>\n",
       "      <td>-0.066667</td>\n",
       "      <td>2013</td>\n",
       "      <td>3</td>\n",
       "      <td>0</td>\n",
       "      <td>3</td>\n",
       "    </tr>\n",
       "  </tbody>\n",
       "</table>\n",
       "<p>6965 rows × 7 columns</p>\n",
       "</div>"
      ],
      "text/plain": [
       "      drugName  condition  reviewComment  date  usefulCount  sideEffects  \\\n",
       "0     3.964286   3.789227       0.000000  2012           13            1   \n",
       "1     4.249512   3.444535       0.566667  2009           11            3   \n",
       "2     3.562500   2.839286       0.333333  2017            4            0   \n",
       "3     4.000000   4.329670       0.139063  2017           16            1   \n",
       "4     2.791563   3.287747       0.260926  2015            4            3   \n",
       "...        ...        ...            ...   ...          ...          ...   \n",
       "6994  3.714429   3.501435       0.143056  2016            9            1   \n",
       "6995  4.266667   3.085162       0.133929  2017            1            0   \n",
       "6996  3.111111   4.100000       0.089464  2016           19            1   \n",
       "6997  4.024390   3.814815       0.076042  2017            2            0   \n",
       "6998  3.714429   4.387097      -0.066667  2013            3            0   \n",
       "\n",
       "      rating  \n",
       "0          5  \n",
       "1          4  \n",
       "2          5  \n",
       "3          5  \n",
       "4          5  \n",
       "...      ...  \n",
       "6994       5  \n",
       "6995       4  \n",
       "6996       5  \n",
       "6997       1  \n",
       "6998       3  \n",
       "\n",
       "[6965 rows x 7 columns]"
      ]
     },
     "execution_count": 103,
     "metadata": {},
     "output_type": "execute_result"
    }
   ],
   "source": [
    "train_data "
   ]
  },
  {
   "cell_type": "code",
   "execution_count": 5,
   "id": "020bf8e3",
   "metadata": {},
   "outputs": [
    {
     "data": {
      "text/plain": [
       " 0.000000    314\n",
       " 0.250000     59\n",
       " 0.500000     51\n",
       " 0.200000     50\n",
       " 0.100000     38\n",
       "            ... \n",
       " 0.074286      1\n",
       "-0.091443      1\n",
       " 0.158586      1\n",
       "-0.082407      1\n",
       " 0.076042      1\n",
       "Name: reviewComment, Length: 4753, dtype: int64"
      ]
     },
     "execution_count": 5,
     "metadata": {},
     "output_type": "execute_result"
    }
   ],
   "source": [
    "train_data['reviewComment'].value_counts()"
   ]
  },
  {
   "cell_type": "code",
   "execution_count": 210,
   "id": "c139e161",
   "metadata": {},
   "outputs": [],
   "source": [
    "def comment2num(comment):\n",
    "    if -1<= comment<-0.04:\n",
    "        return -1\n",
    "    elif -0.04<=comment<0.04:\n",
    "        return 0\n",
    "    else:\n",
    "        return 1"
   ]
  },
  {
   "cell_type": "code",
   "execution_count": 211,
   "id": "da8b2072",
   "metadata": {},
   "outputs": [
    {
     "data": {
      "text/plain": [
       " 1    3781\n",
       "-1    1781\n",
       " 0    1403\n",
       "Name: reviewComment, dtype: int64"
      ]
     },
     "execution_count": 211,
     "metadata": {},
     "output_type": "execute_result"
    }
   ],
   "source": [
    "train_data['reviewComment']=train_data['reviewComment'].map(comment2num)\n",
    "train_data['reviewComment'].value_counts()"
   ]
  },
  {
   "cell_type": "code",
   "execution_count": null,
   "id": "b7fb8e5e",
   "metadata": {},
   "outputs": [],
   "source": []
  },
  {
   "cell_type": "code",
   "execution_count": 70,
   "id": "219b69cf",
   "metadata": {},
   "outputs": [
    {
     "data": {
      "text/html": [
       "<div>\n",
       "<style scoped>\n",
       "    .dataframe tbody tr th:only-of-type {\n",
       "        vertical-align: middle;\n",
       "    }\n",
       "\n",
       "    .dataframe tbody tr th {\n",
       "        vertical-align: top;\n",
       "    }\n",
       "\n",
       "    .dataframe thead th {\n",
       "        text-align: right;\n",
       "    }\n",
       "</style>\n",
       "<table border=\"1\" class=\"dataframe\">\n",
       "  <thead>\n",
       "    <tr style=\"text-align: right;\">\n",
       "      <th></th>\n",
       "      <th>drugName</th>\n",
       "      <th>condition</th>\n",
       "      <th>reviewComment</th>\n",
       "      <th>date</th>\n",
       "      <th>usefulCount</th>\n",
       "      <th>sideEffects</th>\n",
       "      <th>rating</th>\n",
       "    </tr>\n",
       "  </thead>\n",
       "  <tbody>\n",
       "    <tr>\n",
       "      <th>0</th>\n",
       "      <td>3.964286</td>\n",
       "      <td>3.789227</td>\n",
       "      <td>0</td>\n",
       "      <td>2012</td>\n",
       "      <td>13</td>\n",
       "      <td>1</td>\n",
       "      <td>5</td>\n",
       "    </tr>\n",
       "    <tr>\n",
       "      <th>1</th>\n",
       "      <td>4.249512</td>\n",
       "      <td>3.444535</td>\n",
       "      <td>1</td>\n",
       "      <td>2009</td>\n",
       "      <td>11</td>\n",
       "      <td>3</td>\n",
       "      <td>4</td>\n",
       "    </tr>\n",
       "    <tr>\n",
       "      <th>2</th>\n",
       "      <td>3.562500</td>\n",
       "      <td>2.839286</td>\n",
       "      <td>1</td>\n",
       "      <td>2017</td>\n",
       "      <td>4</td>\n",
       "      <td>0</td>\n",
       "      <td>5</td>\n",
       "    </tr>\n",
       "    <tr>\n",
       "      <th>3</th>\n",
       "      <td>4.000000</td>\n",
       "      <td>4.329670</td>\n",
       "      <td>1</td>\n",
       "      <td>2017</td>\n",
       "      <td>16</td>\n",
       "      <td>1</td>\n",
       "      <td>5</td>\n",
       "    </tr>\n",
       "    <tr>\n",
       "      <th>4</th>\n",
       "      <td>2.791563</td>\n",
       "      <td>3.287747</td>\n",
       "      <td>1</td>\n",
       "      <td>2015</td>\n",
       "      <td>4</td>\n",
       "      <td>3</td>\n",
       "      <td>5</td>\n",
       "    </tr>\n",
       "    <tr>\n",
       "      <th>...</th>\n",
       "      <td>...</td>\n",
       "      <td>...</td>\n",
       "      <td>...</td>\n",
       "      <td>...</td>\n",
       "      <td>...</td>\n",
       "      <td>...</td>\n",
       "      <td>...</td>\n",
       "    </tr>\n",
       "    <tr>\n",
       "      <th>6994</th>\n",
       "      <td>3.714429</td>\n",
       "      <td>3.501435</td>\n",
       "      <td>1</td>\n",
       "      <td>2016</td>\n",
       "      <td>9</td>\n",
       "      <td>1</td>\n",
       "      <td>5</td>\n",
       "    </tr>\n",
       "    <tr>\n",
       "      <th>6995</th>\n",
       "      <td>4.266667</td>\n",
       "      <td>3.085162</td>\n",
       "      <td>1</td>\n",
       "      <td>2017</td>\n",
       "      <td>1</td>\n",
       "      <td>0</td>\n",
       "      <td>4</td>\n",
       "    </tr>\n",
       "    <tr>\n",
       "      <th>6996</th>\n",
       "      <td>3.111111</td>\n",
       "      <td>4.100000</td>\n",
       "      <td>0</td>\n",
       "      <td>2016</td>\n",
       "      <td>19</td>\n",
       "      <td>1</td>\n",
       "      <td>5</td>\n",
       "    </tr>\n",
       "    <tr>\n",
       "      <th>6997</th>\n",
       "      <td>4.024390</td>\n",
       "      <td>3.814815</td>\n",
       "      <td>0</td>\n",
       "      <td>2017</td>\n",
       "      <td>2</td>\n",
       "      <td>0</td>\n",
       "      <td>1</td>\n",
       "    </tr>\n",
       "    <tr>\n",
       "      <th>6998</th>\n",
       "      <td>3.714429</td>\n",
       "      <td>4.387097</td>\n",
       "      <td>0</td>\n",
       "      <td>2013</td>\n",
       "      <td>3</td>\n",
       "      <td>0</td>\n",
       "      <td>3</td>\n",
       "    </tr>\n",
       "  </tbody>\n",
       "</table>\n",
       "<p>6965 rows × 7 columns</p>\n",
       "</div>"
      ],
      "text/plain": [
       "      drugName  condition  reviewComment  date  usefulCount  sideEffects  \\\n",
       "0     3.964286   3.789227              0  2012           13            1   \n",
       "1     4.249512   3.444535              1  2009           11            3   \n",
       "2     3.562500   2.839286              1  2017            4            0   \n",
       "3     4.000000   4.329670              1  2017           16            1   \n",
       "4     2.791563   3.287747              1  2015            4            3   \n",
       "...        ...        ...            ...   ...          ...          ...   \n",
       "6994  3.714429   3.501435              1  2016            9            1   \n",
       "6995  4.266667   3.085162              1  2017            1            0   \n",
       "6996  3.111111   4.100000              0  2016           19            1   \n",
       "6997  4.024390   3.814815              0  2017            2            0   \n",
       "6998  3.714429   4.387097              0  2013            3            0   \n",
       "\n",
       "      rating  \n",
       "0          5  \n",
       "1          4  \n",
       "2          5  \n",
       "3          5  \n",
       "4          5  \n",
       "...      ...  \n",
       "6994       5  \n",
       "6995       4  \n",
       "6996       5  \n",
       "6997       1  \n",
       "6998       3  \n",
       "\n",
       "[6965 rows x 7 columns]"
      ]
     },
     "execution_count": 70,
     "metadata": {},
     "output_type": "execute_result"
    }
   ],
   "source": [
    "train_data"
   ]
  },
  {
   "cell_type": "code",
   "execution_count": 212,
   "id": "bce859e7",
   "metadata": {},
   "outputs": [],
   "source": [
    "x_new_data=pd.DataFrame(columns=train_data.columns[:-1])\n",
    "y_new_data = pd.DataFrame(columns=[train_data.columns[-1]])\n",
    "smo = SMOTE(random_state=0)"
   ]
  },
  {
   "cell_type": "code",
   "execution_count": 88,
   "id": "e57265cb",
   "metadata": {},
   "outputs": [
    {
     "data": {
      "text/html": [
       "<div>\n",
       "<style scoped>\n",
       "    .dataframe tbody tr th:only-of-type {\n",
       "        vertical-align: middle;\n",
       "    }\n",
       "\n",
       "    .dataframe tbody tr th {\n",
       "        vertical-align: top;\n",
       "    }\n",
       "\n",
       "    .dataframe thead th {\n",
       "        text-align: right;\n",
       "    }\n",
       "</style>\n",
       "<table border=\"1\" class=\"dataframe\">\n",
       "  <thead>\n",
       "    <tr style=\"text-align: right;\">\n",
       "      <th></th>\n",
       "      <th>drugName</th>\n",
       "      <th>condition</th>\n",
       "      <th>reviewComment</th>\n",
       "      <th>date</th>\n",
       "      <th>usefulCount</th>\n",
       "      <th>sideEffects</th>\n",
       "    </tr>\n",
       "  </thead>\n",
       "  <tbody>\n",
       "  </tbody>\n",
       "</table>\n",
       "</div>"
      ],
      "text/plain": [
       "Empty DataFrame\n",
       "Columns: [drugName, condition, reviewComment, date, usefulCount, sideEffects]\n",
       "Index: []"
      ]
     },
     "execution_count": 88,
     "metadata": {},
     "output_type": "execute_result"
    }
   ],
   "source": [
    "x_new_data"
   ]
  },
  {
   "cell_type": "code",
   "execution_count": 89,
   "id": "8e8f6019",
   "metadata": {},
   "outputs": [
    {
     "data": {
      "text/html": [
       "<div>\n",
       "<style scoped>\n",
       "    .dataframe tbody tr th:only-of-type {\n",
       "        vertical-align: middle;\n",
       "    }\n",
       "\n",
       "    .dataframe tbody tr th {\n",
       "        vertical-align: top;\n",
       "    }\n",
       "\n",
       "    .dataframe thead th {\n",
       "        text-align: right;\n",
       "    }\n",
       "</style>\n",
       "<table border=\"1\" class=\"dataframe\">\n",
       "  <thead>\n",
       "    <tr style=\"text-align: right;\">\n",
       "      <th></th>\n",
       "      <th>rating</th>\n",
       "    </tr>\n",
       "  </thead>\n",
       "  <tbody>\n",
       "  </tbody>\n",
       "</table>\n",
       "</div>"
      ],
      "text/plain": [
       "Empty DataFrame\n",
       "Columns: [rating]\n",
       "Index: []"
      ]
     },
     "execution_count": 89,
     "metadata": {},
     "output_type": "execute_result"
    }
   ],
   "source": [
    "y_new_data"
   ]
  },
  {
   "cell_type": "code",
   "execution_count": null,
   "id": "a890c67a",
   "metadata": {
    "scrolled": true
   },
   "outputs": [],
   "source": []
  },
  {
   "cell_type": "code",
   "execution_count": null,
   "id": "5be8cb08",
   "metadata": {
    "scrolled": true
   },
   "outputs": [],
   "source": []
  },
  {
   "cell_type": "code",
   "execution_count": null,
   "id": "fdc347db",
   "metadata": {},
   "outputs": [],
   "source": []
  },
  {
   "cell_type": "code",
   "execution_count": null,
   "id": "447a46cf",
   "metadata": {
    "scrolled": true
   },
   "outputs": [],
   "source": []
  },
  {
   "cell_type": "code",
   "execution_count": null,
   "id": "bfc940a6",
   "metadata": {},
   "outputs": [],
   "source": []
  },
  {
   "cell_type": "code",
   "execution_count": null,
   "id": "53d5af34",
   "metadata": {},
   "outputs": [],
   "source": []
  },
  {
   "cell_type": "code",
   "execution_count": null,
   "id": "08ab0abc",
   "metadata": {
    "scrolled": true
   },
   "outputs": [],
   "source": []
  },
  {
   "cell_type": "code",
   "execution_count": null,
   "id": "772239a2",
   "metadata": {
    "scrolled": true
   },
   "outputs": [],
   "source": []
  },
  {
   "cell_type": "code",
   "execution_count": null,
   "id": "0fa1ce2e",
   "metadata": {},
   "outputs": [],
   "source": []
  },
  {
   "cell_type": "code",
   "execution_count": null,
   "id": "dbb60d1b",
   "metadata": {},
   "outputs": [],
   "source": [
    " "
   ]
  },
  {
   "cell_type": "code",
   "execution_count": null,
   "id": "03b66d44",
   "metadata": {},
   "outputs": [],
   "source": []
  },
  {
   "cell_type": "code",
   "execution_count": 213,
   "id": "e447ba59",
   "metadata": {},
   "outputs": [
    {
     "name": "stderr",
     "output_type": "stream",
     "text": [
      "C:\\Users\\mowan\\AppData\\Local\\Temp/ipykernel_8700/252110807.py:5: FutureWarning: The frame.append method is deprecated and will be removed from pandas in a future version. Use pandas.concat instead.\n",
      "  x_new_data=x_new_data.append(x_train_smo[y_train_smo['rating']==label],ignore_index=True)\n",
      "C:\\Users\\mowan\\AppData\\Local\\Temp/ipykernel_8700/252110807.py:6: FutureWarning: The frame.append method is deprecated and will be removed from pandas in a future version. Use pandas.concat instead.\n",
      "  y_new_data = y_new_data.append(y_train_smo[y_train_smo['rating']==label], ignore_index=True)\n",
      "C:\\Users\\mowan\\AppData\\Local\\Temp/ipykernel_8700/252110807.py:5: FutureWarning: The frame.append method is deprecated and will be removed from pandas in a future version. Use pandas.concat instead.\n",
      "  x_new_data=x_new_data.append(x_train_smo[y_train_smo['rating']==label],ignore_index=True)\n",
      "C:\\Users\\mowan\\AppData\\Local\\Temp/ipykernel_8700/252110807.py:6: FutureWarning: The frame.append method is deprecated and will be removed from pandas in a future version. Use pandas.concat instead.\n",
      "  y_new_data = y_new_data.append(y_train_smo[y_train_smo['rating']==label], ignore_index=True)\n",
      "C:\\Users\\mowan\\AppData\\Local\\Temp/ipykernel_8700/252110807.py:5: FutureWarning: The frame.append method is deprecated and will be removed from pandas in a future version. Use pandas.concat instead.\n",
      "  x_new_data=x_new_data.append(x_train_smo[y_train_smo['rating']==label],ignore_index=True)\n",
      "C:\\Users\\mowan\\AppData\\Local\\Temp/ipykernel_8700/252110807.py:6: FutureWarning: The frame.append method is deprecated and will be removed from pandas in a future version. Use pandas.concat instead.\n",
      "  y_new_data = y_new_data.append(y_train_smo[y_train_smo['rating']==label], ignore_index=True)\n",
      "C:\\Users\\mowan\\AppData\\Local\\Temp/ipykernel_8700/252110807.py:5: FutureWarning: The frame.append method is deprecated and will be removed from pandas in a future version. Use pandas.concat instead.\n",
      "  x_new_data=x_new_data.append(x_train_smo[y_train_smo['rating']==label],ignore_index=True)\n",
      "C:\\Users\\mowan\\AppData\\Local\\Temp/ipykernel_8700/252110807.py:6: FutureWarning: The frame.append method is deprecated and will be removed from pandas in a future version. Use pandas.concat instead.\n",
      "  y_new_data = y_new_data.append(y_train_smo[y_train_smo['rating']==label], ignore_index=True)\n",
      "C:\\Users\\mowan\\AppData\\Local\\Temp/ipykernel_8700/252110807.py:8: FutureWarning: The frame.append method is deprecated and will be removed from pandas in a future version. Use pandas.concat instead.\n",
      "  x_new_data=x_new_data.append(train_data[train_data['rating'] == 5].iloc[:, :-1], ignore_index=True)  # 将标签为5的数据合并\n",
      "C:\\Users\\mowan\\AppData\\Local\\Temp/ipykernel_8700/252110807.py:9: FutureWarning: The frame.append method is deprecated and will be removed from pandas in a future version. Use pandas.concat instead.\n",
      "  y_new_data=y_new_data.append(pd.DataFrame(train_data[train_data['rating'] == 5].iloc[:, -1], columns=['rating']),\n"
     ]
    }
   ],
   "source": [
    "for label in range(1,5):\n",
    "    x_train=train_data[train_data['rating'].isin([label,5])].iloc[:,:-1]\n",
    "    y_train=pd.DataFrame(train_data[train_data['rating'].isin([label,5])].iloc[:,-1],columns=['rating'])\n",
    "    x_train_smo,y_train_smo=smo.fit_resample(x_train,y_train)\n",
    "    x_new_data=x_new_data.append(x_train_smo[y_train_smo['rating']==label],ignore_index=True)\n",
    "    y_new_data = y_new_data.append(y_train_smo[y_train_smo['rating']==label], ignore_index=True)\n",
    "\n",
    "x_new_data=x_new_data.append(train_data[train_data['rating'] == 5].iloc[:, :-1], ignore_index=True)  # 将标签为5的数据合并\n",
    "y_new_data=y_new_data.append(pd.DataFrame(train_data[train_data['rating'] == 5].iloc[:, -1], columns=['rating']),\n",
    "                      ignore_index=True)  # 将标签为5的数据合并"
   ]
  },
  {
   "cell_type": "code",
   "execution_count": null,
   "id": "0ee50e26",
   "metadata": {
    "scrolled": true
   },
   "outputs": [],
   "source": []
  },
  {
   "cell_type": "code",
   "execution_count": null,
   "id": "a0ff4056",
   "metadata": {
    "scrolled": true
   },
   "outputs": [],
   "source": []
  },
  {
   "cell_type": "code",
   "execution_count": null,
   "id": "e97ddaca",
   "metadata": {},
   "outputs": [],
   "source": []
  },
  {
   "cell_type": "code",
   "execution_count": null,
   "id": "a8391de7",
   "metadata": {},
   "outputs": [],
   "source": []
  },
  {
   "cell_type": "code",
   "execution_count": null,
   "id": "f5111e36",
   "metadata": {},
   "outputs": [],
   "source": []
  },
  {
   "cell_type": "code",
   "execution_count": null,
   "id": "83126d7c",
   "metadata": {},
   "outputs": [],
   "source": []
  },
  {
   "cell_type": "code",
   "execution_count": null,
   "id": "88bd6e5d",
   "metadata": {},
   "outputs": [],
   "source": []
  },
  {
   "cell_type": "code",
   "execution_count": null,
   "id": "73baf5a8",
   "metadata": {},
   "outputs": [],
   "source": []
  },
  {
   "cell_type": "code",
   "execution_count": null,
   "id": "7e237fa3",
   "metadata": {},
   "outputs": [],
   "source": [
    "\n",
    "\n"
   ]
  },
  {
   "cell_type": "code",
   "execution_count": 214,
   "id": "eb006526",
   "metadata": {
    "scrolled": true
   },
   "outputs": [
    {
     "name": "stderr",
     "output_type": "stream",
     "text": [
      "F:\\SoftwareInstall\\Anaconda\\envs\\pytorch\\lib\\site-packages\\xgboost\\sklearn.py:1224: UserWarning: The use of label encoder in XGBClassifier is deprecated and will be removed in a future release. To remove this warning, do the following: 1) Pass option use_label_encoder=False when constructing XGBClassifier object; and 2) Encode your labels (y) as integers starting with 0, i.e. 0, 1, 2, ..., [num_class - 1].\n",
      "  warnings.warn(label_encoder_deprecation_msg, UserWarning)\n",
      "F:\\SoftwareInstall\\Anaconda\\envs\\pytorch\\lib\\site-packages\\sklearn\\preprocessing\\_label.py:98: DataConversionWarning: A column-vector y was passed when a 1d array was expected. Please change the shape of y to (n_samples, ), for example using ravel().\n",
      "  y = column_or_1d(y, warn=True)\n",
      "F:\\SoftwareInstall\\Anaconda\\envs\\pytorch\\lib\\site-packages\\sklearn\\preprocessing\\_label.py:133: DataConversionWarning: A column-vector y was passed when a 1d array was expected. Please change the shape of y to (n_samples, ), for example using ravel().\n",
      "  y = column_or_1d(y, warn=True)\n"
     ]
    },
    {
     "name": "stdout",
     "output_type": "stream",
     "text": [
      "[23:36:00] WARNING: ..\\src\\learner.cc:1115: Starting in XGBoost 1.3.0, the default evaluation metric used with the objective 'multi:softprob' was changed from 'merror' to 'mlogloss'. Explicitly set eval_metric if you'd like to restore the old behavior.\n"
     ]
    }
   ],
   "source": [
    "xgb_model = xgb_train(x_new_data.values, y_new_data.values)"
   ]
  },
  {
   "cell_type": "code",
   "execution_count": 215,
   "id": "ee3e425c",
   "metadata": {},
   "outputs": [
    {
     "data": {
      "text/plain": [
       "array([1, 1, 5, ..., 5, 5, 5], dtype=object)"
      ]
     },
     "execution_count": 215,
     "metadata": {},
     "output_type": "execute_result"
    }
   ],
   "source": [
    "train_pred = xgb_model.predict(x_new_data.values)\n",
    "train_pred"
   ]
  },
  {
   "cell_type": "code",
   "execution_count": 216,
   "id": "9cf814c2",
   "metadata": {},
   "outputs": [],
   "source": [
    "pred=train_pred.tolist()\n",
    "y=y_new_data['rating'].values.tolist()"
   ]
  },
  {
   "cell_type": "code",
   "execution_count": 130,
   "id": "e3d6f1fb",
   "metadata": {},
   "outputs": [],
   "source": []
  },
  {
   "cell_type": "code",
   "execution_count": null,
   "id": "909b9e5b",
   "metadata": {},
   "outputs": [],
   "source": []
  },
  {
   "cell_type": "code",
   "execution_count": null,
   "id": "74558504",
   "metadata": {},
   "outputs": [],
   "source": []
  },
  {
   "cell_type": "code",
   "execution_count": 217,
   "id": "3bebe0e0",
   "metadata": {},
   "outputs": [
    {
     "name": "stdout",
     "output_type": "stream",
     "text": [
      "Training score:\n",
      "              precision    recall  f1-score   support\n",
      "\n",
      "           1       0.91      0.91      0.91      3412\n",
      "           2       0.92      0.94      0.93      3412\n",
      "           3       0.92      0.93      0.93      3412\n",
      "           4       0.94      0.89      0.91      3412\n",
      "           5       0.89      0.91      0.90      3412\n",
      "\n",
      "    accuracy                           0.91     17060\n",
      "   macro avg       0.91      0.91      0.91     17060\n",
      "weighted avg       0.91      0.91      0.91     17060\n",
      "\n",
      "Precision_mac: 0.91463, Recall_mac: 0.91436, F1_mac: 0.91432 \n",
      "Precision_mic: 0.91436, Recall_mic: 0.91436, F1_mic: 0.91436 \n"
     ]
    }
   ],
   "source": [
    "print('Training score:')\n",
    "train_score = print_precison_recall_f1(y, pred)"
   ]
  },
  {
   "cell_type": "code",
   "execution_count": 218,
   "id": "f715a38a",
   "metadata": {},
   "outputs": [
    {
     "name": "stdout",
     "output_type": "stream",
     "text": [
      "dataprocess:\n"
     ]
    },
    {
     "name": "stderr",
     "output_type": "stream",
     "text": [
      "F:\\SoftwareInstall\\Anaconda\\envs\\pytorch\\lib\\site-packages\\category_encoders\\utils.py:21: FutureWarning: is_categorical is deprecated and will be removed in a future version. Use is_categorical_dtype instead.\n",
      "  elif pd.api.types.is_categorical(cols):\n",
      "F:\\SoftwareInstall\\Anaconda\\envs\\pytorch\\lib\\site-packages\\category_encoders\\utils.py:21: FutureWarning: is_categorical is deprecated and will be removed in a future version. Use is_categorical_dtype instead.\n",
      "  elif pd.api.types.is_categorical(cols):\n"
     ]
    }
   ],
   "source": [
    "val_data=get_data(val_path)\n",
    "x_val=val_data.iloc[:,:-1]\n",
    "y_val=val_data.iloc[:,-1]"
   ]
  },
  {
   "cell_type": "code",
   "execution_count": 219,
   "id": "b2457813",
   "metadata": {},
   "outputs": [],
   "source": [
    "x_val['reviewComment']=x_val['reviewComment'].map(comment2num)"
   ]
  },
  {
   "cell_type": "code",
   "execution_count": 117,
   "id": "066ec1f5",
   "metadata": {},
   "outputs": [
    {
     "data": {
      "text/html": [
       "<div>\n",
       "<style scoped>\n",
       "    .dataframe tbody tr th:only-of-type {\n",
       "        vertical-align: middle;\n",
       "    }\n",
       "\n",
       "    .dataframe tbody tr th {\n",
       "        vertical-align: top;\n",
       "    }\n",
       "\n",
       "    .dataframe thead th {\n",
       "        text-align: right;\n",
       "    }\n",
       "</style>\n",
       "<table border=\"1\" class=\"dataframe\">\n",
       "  <thead>\n",
       "    <tr style=\"text-align: right;\">\n",
       "      <th></th>\n",
       "      <th>drugName</th>\n",
       "      <th>condition</th>\n",
       "      <th>reviewComment</th>\n",
       "      <th>date</th>\n",
       "      <th>usefulCount</th>\n",
       "      <th>sideEffects</th>\n",
       "    </tr>\n",
       "  </thead>\n",
       "  <tbody>\n",
       "    <tr>\n",
       "      <th>0</th>\n",
       "      <td>3.333340</td>\n",
       "      <td>3.302752</td>\n",
       "      <td>0</td>\n",
       "      <td>2012</td>\n",
       "      <td>4</td>\n",
       "      <td>1</td>\n",
       "    </tr>\n",
       "    <tr>\n",
       "      <th>1</th>\n",
       "      <td>3.706868</td>\n",
       "      <td>2.824577</td>\n",
       "      <td>0</td>\n",
       "      <td>2016</td>\n",
       "      <td>4</td>\n",
       "      <td>3</td>\n",
       "    </tr>\n",
       "    <tr>\n",
       "      <th>2</th>\n",
       "      <td>4.191130</td>\n",
       "      <td>3.875000</td>\n",
       "      <td>1</td>\n",
       "      <td>2011</td>\n",
       "      <td>20</td>\n",
       "      <td>1</td>\n",
       "    </tr>\n",
       "    <tr>\n",
       "      <th>3</th>\n",
       "      <td>4.976741</td>\n",
       "      <td>3.666667</td>\n",
       "      <td>1</td>\n",
       "      <td>2010</td>\n",
       "      <td>16</td>\n",
       "      <td>2</td>\n",
       "    </tr>\n",
       "    <tr>\n",
       "      <th>4</th>\n",
       "      <td>4.538456</td>\n",
       "      <td>3.888889</td>\n",
       "      <td>0</td>\n",
       "      <td>2014</td>\n",
       "      <td>18</td>\n",
       "      <td>0</td>\n",
       "    </tr>\n",
       "    <tr>\n",
       "      <th>...</th>\n",
       "      <td>...</td>\n",
       "      <td>...</td>\n",
       "      <td>...</td>\n",
       "      <td>...</td>\n",
       "      <td>...</td>\n",
       "      <td>...</td>\n",
       "    </tr>\n",
       "    <tr>\n",
       "      <th>1194</th>\n",
       "      <td>3.706868</td>\n",
       "      <td>3.706868</td>\n",
       "      <td>0</td>\n",
       "      <td>2011</td>\n",
       "      <td>19</td>\n",
       "      <td>0</td>\n",
       "    </tr>\n",
       "    <tr>\n",
       "      <th>1195</th>\n",
       "      <td>3.084261</td>\n",
       "      <td>3.400000</td>\n",
       "      <td>1</td>\n",
       "      <td>2011</td>\n",
       "      <td>10</td>\n",
       "      <td>1</td>\n",
       "    </tr>\n",
       "    <tr>\n",
       "      <th>1196</th>\n",
       "      <td>4.387533</td>\n",
       "      <td>4.666651</td>\n",
       "      <td>0</td>\n",
       "      <td>2014</td>\n",
       "      <td>10</td>\n",
       "      <td>4</td>\n",
       "    </tr>\n",
       "    <tr>\n",
       "      <th>1197</th>\n",
       "      <td>3.706868</td>\n",
       "      <td>4.249505</td>\n",
       "      <td>1</td>\n",
       "      <td>2013</td>\n",
       "      <td>19</td>\n",
       "      <td>1</td>\n",
       "    </tr>\n",
       "    <tr>\n",
       "      <th>1198</th>\n",
       "      <td>4.286694</td>\n",
       "      <td>4.552256</td>\n",
       "      <td>1</td>\n",
       "      <td>2015</td>\n",
       "      <td>14</td>\n",
       "      <td>0</td>\n",
       "    </tr>\n",
       "  </tbody>\n",
       "</table>\n",
       "<p>1194 rows × 6 columns</p>\n",
       "</div>"
      ],
      "text/plain": [
       "      drugName  condition  reviewComment  date  usefulCount  sideEffects\n",
       "0     3.333340   3.302752              0  2012            4            1\n",
       "1     3.706868   2.824577              0  2016            4            3\n",
       "2     4.191130   3.875000              1  2011           20            1\n",
       "3     4.976741   3.666667              1  2010           16            2\n",
       "4     4.538456   3.888889              0  2014           18            0\n",
       "...        ...        ...            ...   ...          ...          ...\n",
       "1194  3.706868   3.706868              0  2011           19            0\n",
       "1195  3.084261   3.400000              1  2011           10            1\n",
       "1196  4.387533   4.666651              0  2014           10            4\n",
       "1197  3.706868   4.249505              1  2013           19            1\n",
       "1198  4.286694   4.552256              1  2015           14            0\n",
       "\n",
       "[1194 rows x 6 columns]"
      ]
     },
     "execution_count": 117,
     "metadata": {},
     "output_type": "execute_result"
    }
   ],
   "source": [
    "x_val"
   ]
  },
  {
   "cell_type": "code",
   "execution_count": 220,
   "id": "a38fcbb6",
   "metadata": {},
   "outputs": [],
   "source": [
    "val_pred = xgb_model.predict(x_val)\n",
    "val_pred=val_pred.tolist()\n",
    "y_val=y_val.tolist()"
   ]
  },
  {
   "cell_type": "code",
   "execution_count": 119,
   "id": "5ef87de7",
   "metadata": {},
   "outputs": [
    {
     "name": "stdout",
     "output_type": "stream",
     "text": [
      "Validation score:\n",
      "              precision    recall  f1-score   support\n",
      "\n",
      "           1       0.47      0.54      0.50       225\n",
      "           2       0.12      0.21      0.15        82\n",
      "           3       0.14      0.19      0.16       103\n",
      "           4       0.22      0.29      0.25       192\n",
      "           5       0.75      0.51      0.60       592\n",
      "\n",
      "    accuracy                           0.43      1194\n",
      "   macro avg       0.34      0.35      0.33      1194\n",
      "weighted avg       0.52      0.43      0.46      1194\n",
      "\n",
      "Precision_mac: 0.3402, Recall_mac: 0.3472, F1_mac: 0.33429 \n",
      "Precision_mic: 0.42965, Recall_mic: 0.42965, F1_mic: 0.42965 \n"
     ]
    }
   ],
   "source": [
    "print('Validation score:')\n",
    "val_score = print_precison_recall_f1(y_val, val_pred)"
   ]
  },
  {
   "cell_type": "code",
   "execution_count": 134,
   "id": "16933602",
   "metadata": {},
   "outputs": [
    {
     "name": "stdout",
     "output_type": "stream",
     "text": [
      "Validation score:\n",
      "              precision    recall  f1-score   support\n",
      "\n",
      "           1       0.47      0.54      0.50       225\n",
      "           2       0.12      0.21      0.15        82\n",
      "           3       0.14      0.19      0.16       103\n",
      "           4       0.22      0.29      0.25       192\n",
      "           5       0.75      0.51      0.60       592\n",
      "\n",
      "    accuracy                           0.43      1194\n",
      "   macro avg       0.34      0.35      0.33      1194\n",
      "weighted avg       0.52      0.43      0.46      1194\n",
      "\n",
      "Precision_mac: 0.3402, Recall_mac: 0.3472, F1_mac: 0.33429 \n",
      "Precision_mic: 0.42965, Recall_mic: 0.42965, F1_mic: 0.42965 \n"
     ]
    }
   ],
   "source": [
    "print('Validation score:')\n",
    "val_score = print_precison_recall_f1(y_val, val_pred)"
   ]
  },
  {
   "cell_type": "code",
   "execution_count": 144,
   "id": "b6b36492",
   "metadata": {},
   "outputs": [
    {
     "name": "stdout",
     "output_type": "stream",
     "text": [
      "Validation score:\n",
      "              precision    recall  f1-score   support\n",
      "\n",
      "           1       0.44      0.51      0.47       225\n",
      "           2       0.13      0.26      0.17        82\n",
      "           3       0.12      0.17      0.14       103\n",
      "           4       0.21      0.30      0.25       192\n",
      "           5       0.79      0.47      0.59       592\n",
      "\n",
      "    accuracy                           0.41      1194\n",
      "   macro avg       0.34      0.34      0.33      1194\n",
      "weighted avg       0.53      0.41      0.45      1194\n",
      "\n",
      "Precision_mac: 0.33853, Recall_mac: 0.34181, F1_mac: 0.32541 \n",
      "Precision_mic: 0.41122, Recall_mic: 0.41122, F1_mic: 0.41122 \n"
     ]
    }
   ],
   "source": [
    "print('Validation score:')\n",
    "val_score = print_precison_recall_f1(y_val, val_pred)"
   ]
  },
  {
   "cell_type": "code",
   "execution_count": 157,
   "id": "d55ba14a",
   "metadata": {},
   "outputs": [
    {
     "name": "stdout",
     "output_type": "stream",
     "text": [
      "Validation score:\n",
      "              precision    recall  f1-score   support\n",
      "\n",
      "           1       0.45      0.64      0.53       225\n",
      "           2       0.09      0.12      0.11        82\n",
      "           3       0.17      0.14      0.15       103\n",
      "           4       0.25      0.20      0.22       192\n",
      "           5       0.70      0.63      0.66       592\n",
      "\n",
      "    accuracy                           0.48      1194\n",
      "   macro avg       0.33      0.35      0.33      1194\n",
      "weighted avg       0.49      0.48      0.48      1194\n",
      "\n",
      "Precision_mac: 0.33262, Recall_mac: 0.34538, F1_mac: 0.33398 \n",
      "Precision_mic: 0.48409, Recall_mic: 0.48409, F1_mic: 0.48409 \n"
     ]
    }
   ],
   "source": [
    "print('Validation score:')\n",
    "val_score = print_precison_recall_f1(y_val, val_pred)"
   ]
  },
  {
   "cell_type": "code",
   "execution_count": 171,
   "id": "41c2c668",
   "metadata": {},
   "outputs": [
    {
     "name": "stdout",
     "output_type": "stream",
     "text": [
      "Validation score:\n",
      "              precision    recall  f1-score   support\n",
      "\n",
      "           1       0.45      0.66      0.54       225\n",
      "           2       0.09      0.10      0.09        82\n",
      "           3       0.20      0.14      0.16       103\n",
      "           4       0.26      0.22      0.24       192\n",
      "           5       0.69      0.63      0.66       592\n",
      "\n",
      "    accuracy                           0.49      1194\n",
      "   macro avg       0.34      0.35      0.34      1194\n",
      "weighted avg       0.49      0.49      0.49      1194\n",
      "\n",
      "Precision_mac: 0.33862, Recall_mac: 0.34958, F1_mac: 0.33829 \n",
      "Precision_mic: 0.49246, Recall_mic: 0.49246, F1_mic: 0.49246 \n"
     ]
    }
   ],
   "source": [
    "print('Validation score:')\n",
    "val_score = print_precison_recall_f1(y_val, val_pred)"
   ]
  },
  {
   "cell_type": "code",
   "execution_count": 184,
   "id": "b0f36414",
   "metadata": {},
   "outputs": [
    {
     "name": "stdout",
     "output_type": "stream",
     "text": [
      "Validation score:\n",
      "              precision    recall  f1-score   support\n",
      "\n",
      "           1       0.44      0.68      0.54       225\n",
      "           2       0.08      0.09      0.08        82\n",
      "           3       0.19      0.09      0.12       103\n",
      "           4       0.27      0.22      0.24       192\n",
      "           5       0.68      0.65      0.66       592\n",
      "\n",
      "    accuracy                           0.50      1194\n",
      "   macro avg       0.33      0.34      0.33      1194\n",
      "weighted avg       0.49      0.50      0.48      1194\n",
      "\n",
      "Precision_mac: 0.33298, Recall_mac: 0.34335, F1_mac: 0.32883 \n",
      "Precision_mic: 0.49665, Recall_mic: 0.49665, F1_mic: 0.49665 \n"
     ]
    }
   ],
   "source": [
    "print('Validation score:')\n",
    "val_score = print_precison_recall_f1(y_val, val_pred)"
   ]
  },
  {
   "cell_type": "code",
   "execution_count": 198,
   "id": "b0325444",
   "metadata": {},
   "outputs": [
    {
     "name": "stdout",
     "output_type": "stream",
     "text": [
      "Validation score:\n",
      "              precision    recall  f1-score   support\n",
      "\n",
      "           1       0.44      0.67      0.53       225\n",
      "           2       0.09      0.10      0.09        82\n",
      "           3       0.20      0.11      0.14       103\n",
      "           4       0.27      0.22      0.24       192\n",
      "           5       0.69      0.64      0.66       592\n",
      "\n",
      "    accuracy                           0.50      1194\n",
      "   macro avg       0.34      0.35      0.33      1194\n",
      "weighted avg       0.49      0.50      0.49      1194\n",
      "\n",
      "Precision_mac: 0.33879, Recall_mac: 0.34756, F1_mac: 0.33481 \n",
      "Precision_mic: 0.49665, Recall_mic: 0.49665, F1_mic: 0.49665 \n"
     ]
    }
   ],
   "source": [
    "print('Validation score:')\n",
    "val_score = print_precison_recall_f1(y_val, val_pred)"
   ]
  },
  {
   "cell_type": "code",
   "execution_count": 221,
   "id": "8500bfd4",
   "metadata": {},
   "outputs": [
    {
     "name": "stdout",
     "output_type": "stream",
     "text": [
      "Validation score:\n",
      "              precision    recall  f1-score   support\n",
      "\n",
      "           1       0.44      0.50      0.47       225\n",
      "           2       0.09      0.21      0.13        82\n",
      "           3       0.08      0.11      0.09       103\n",
      "           4       0.23      0.29      0.25       192\n",
      "           5       0.75      0.48      0.59       592\n",
      "\n",
      "    accuracy                           0.40      1194\n",
      "   macro avg       0.32      0.32      0.31      1194\n",
      "weighted avg       0.51      0.40      0.44      1194\n",
      "\n",
      "Precision_mac: 0.31866, Recall_mac: 0.31663, F1_mac: 0.30631 \n",
      "Precision_mic: 0.40369, Recall_mic: 0.40369, F1_mic: 0.40369 \n"
     ]
    }
   ],
   "source": [
    "print('Validation score:')\n",
    "val_score = print_precison_recall_f1(y_val, val_pred)"
   ]
  },
  {
   "cell_type": "code",
   "execution_count": null,
   "id": "4480a365",
   "metadata": {},
   "outputs": [],
   "source": []
  }
 ],
 "metadata": {
  "kernelspec": {
   "display_name": "Python [conda env:pytorch] *",
   "language": "python",
   "name": "conda-env-pytorch-py"
  },
  "language_info": {
   "codemirror_mode": {
    "name": "ipython",
    "version": 3
   },
   "file_extension": ".py",
   "mimetype": "text/x-python",
   "name": "python",
   "nbconvert_exporter": "python",
   "pygments_lexer": "ipython3",
   "version": "3.9.7"
  }
 },
 "nbformat": 4,
 "nbformat_minor": 5
}
