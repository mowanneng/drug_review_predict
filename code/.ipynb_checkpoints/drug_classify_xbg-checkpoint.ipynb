{
 "cells": [
  {
   "cell_type": "code",
   "execution_count": 1,
   "id": "ddad0c2d",
   "metadata": {},
   "outputs": [
    {
     "name": "stderr",
     "output_type": "stream",
     "text": [
      "F:\\SoftwareInstall\\Anaconda\\envs\\pytorch\\lib\\site-packages\\xgboost\\compat.py:36: FutureWarning: pandas.Int64Index is deprecated and will be removed from pandas in a future version. Use pandas.Index with the appropriate dtype instead.\n",
      "  from pandas import MultiIndex, Int64Index\n",
      "F:\\SoftwareInstall\\Anaconda\\envs\\pytorch\\lib\\site-packages\\statsmodels\\compat\\pandas.py:61: FutureWarning: pandas.Int64Index is deprecated and will be removed from pandas in a future version. Use pandas.Index with the appropriate dtype instead.\n",
      "  from pandas import Int64Index as NumericIndex\n"
     ]
    }
   ],
   "source": [
    "import pandas as pd\n",
    "from xgboost.sklearn import XGBClassifier\n",
    "from sklearn.metrics import classification_report\n",
    "from sklearn.metrics import f1_score, precision_score, recall_score\n",
    "from data_process import DataProcess\n",
    "from data_process import GetUsefulLevel\n",
    "import os\n",
    "from imblearn.over_sampling import SMOTE"
   ]
  },
  {
   "cell_type": "code",
   "execution_count": 2,
   "id": "66da9481",
   "metadata": {},
   "outputs": [],
   "source": [
    "def print_precison_recall_f1(y_true, y_pre):\n",
    "    \"\"\"打印精准率、召回率和F1值\"\"\"\n",
    "    score=dict()\n",
    "    print(classification_report(y_true, y_pre))\n",
    "    f1_mac = round(f1_score(y_true, y_pre, average='macro'), 5)\n",
    "    p_mac = round(precision_score(y_true, y_pre, average='macro'), 5)\n",
    "    r_mac = round(recall_score(y_true, y_pre, average='macro'), 5)\n",
    "    \n",
    "    print(\"Precision_mac: {}, Recall_mac: {}, F1_mac: {} \".format(p_mac, r_mac, f1_mac))\n",
    "\n",
    "    f1_mic = round(f1_score(y_true, y_pre, average='micro'), 5)\n",
    "    p_mic = round(precision_score(y_true, y_pre, average='micro'), 5)\n",
    "    r_mic = round(recall_score(y_true, y_pre, average='micro'), 5)\n",
    "    print(\"Precision_mic: {}, Recall_mic: {}, F1_mic: {} \".format(p_mic, r_mic, f1_mic))\n",
    "    score={'macro':{'f1_mac':f1_mac,'p_mac':p_mac,'r_mac':r_mac},'micro':{'f1_mic':f1_mic,'p_mic':p_mic,'r_mic':r_mic}}\n",
    "    return score\n",
    "\n",
    "def get_data(path):\n",
    "    df = pd.read_csv(path)\n",
    "    df.dropna(axis=0, how='any', inplace=True)\n",
    "    data_process = DataProcess()\n",
    "    df['reviewComment'] = df['reviewComment'].map(data_process.text_replace)  # 替换评论数据中的乱码字符\n",
    "    df['reviewComment'] = df['reviewComment'].map(data_process.sen_analy)  # 获取评论数据情感倾向\n",
    "    df['date'] = df['date'].map(data_process.time_format)  # 获取年份数据\n",
    "    df.drop(labels=None, axis=1, index=None, columns='recordId', inplace=True)\n",
    "\n",
    "    useful_level = GetUsefulLevel(df['usefulCount'])\n",
    "    df['usefulCount'] = df['usefulCount'].map(useful_level.get_current_level)  # 获取count的分级，分为10级\n",
    "    df['drugName'] = data_process.target_encoder(df['drugName'], df['rating'])  # 对drugName进行目标编码\n",
    "    df['condition'] = data_process.target_encoder(df['condition'], df['rating'])  # 对condition进行目标编码\n",
    "    df['sideEffects'] = data_process.side_effect_level(df['sideEffects'])  # 对sideEffects划分等级\n",
    "    return df\n",
    "\n",
    "def xgb_train(x_train,y_train):\n",
    "    xgboost_clf = XGBClassifier(min_child_weight=6, max_depth=10, early_stopping_rounds=8,\n",
    "                               objective='multi:softmax', num_class=5)\n",
    "    xgboost_clf.fit(x_train, y_train)\n",
    "    # feature_importances_ = xgboost_clf.feature_importances_\n",
    "    return xgboost_clf"
   ]
  },
  {
   "cell_type": "code",
   "execution_count": 3,
   "id": "b51547cc",
   "metadata": {},
   "outputs": [
    {
     "name": "stdout",
     "output_type": "stream",
     "text": [
      "dataprocess:\n"
     ]
    },
    {
     "name": "stderr",
     "output_type": "stream",
     "text": [
      "F:\\SoftwareInstall\\Anaconda\\envs\\pytorch\\lib\\site-packages\\category_encoders\\utils.py:21: FutureWarning: is_categorical is deprecated and will be removed in a future version. Use is_categorical_dtype instead.\n",
      "  elif pd.api.types.is_categorical(cols):\n",
      "F:\\SoftwareInstall\\Anaconda\\envs\\pytorch\\lib\\site-packages\\category_encoders\\utils.py:21: FutureWarning: is_categorical is deprecated and will be removed in a future version. Use is_categorical_dtype instead.\n",
      "  elif pd.api.types.is_categorical(cols):\n"
     ]
    }
   ],
   "source": [
    "path=r'D:\\Python\\drug_review_predict\\dataset'\n",
    "train_path=os.path.join(path,'training.csv')\n",
    "val_path = os.path.join(path, 'validation.csv')\n",
    "train_data=get_data(train_path)    "
   ]
  },
  {
   "cell_type": "code",
   "execution_count": 4,
   "id": "7133fbaa",
   "metadata": {},
   "outputs": [
    {
     "data": {
      "text/html": [
       "<div>\n",
       "<style scoped>\n",
       "    .dataframe tbody tr th:only-of-type {\n",
       "        vertical-align: middle;\n",
       "    }\n",
       "\n",
       "    .dataframe tbody tr th {\n",
       "        vertical-align: top;\n",
       "    }\n",
       "\n",
       "    .dataframe thead th {\n",
       "        text-align: right;\n",
       "    }\n",
       "</style>\n",
       "<table border=\"1\" class=\"dataframe\">\n",
       "  <thead>\n",
       "    <tr style=\"text-align: right;\">\n",
       "      <th></th>\n",
       "      <th>drugName</th>\n",
       "      <th>condition</th>\n",
       "      <th>reviewComment</th>\n",
       "      <th>date</th>\n",
       "      <th>usefulCount</th>\n",
       "      <th>sideEffects</th>\n",
       "      <th>rating</th>\n",
       "    </tr>\n",
       "  </thead>\n",
       "  <tbody>\n",
       "    <tr>\n",
       "      <th>0</th>\n",
       "      <td>3.964286</td>\n",
       "      <td>3.789227</td>\n",
       "      <td>0.000000</td>\n",
       "      <td>2012</td>\n",
       "      <td>13</td>\n",
       "      <td>1</td>\n",
       "      <td>5</td>\n",
       "    </tr>\n",
       "    <tr>\n",
       "      <th>1</th>\n",
       "      <td>4.249512</td>\n",
       "      <td>3.444535</td>\n",
       "      <td>0.566667</td>\n",
       "      <td>2009</td>\n",
       "      <td>11</td>\n",
       "      <td>3</td>\n",
       "      <td>4</td>\n",
       "    </tr>\n",
       "    <tr>\n",
       "      <th>2</th>\n",
       "      <td>3.562500</td>\n",
       "      <td>2.839286</td>\n",
       "      <td>0.333333</td>\n",
       "      <td>2017</td>\n",
       "      <td>4</td>\n",
       "      <td>0</td>\n",
       "      <td>5</td>\n",
       "    </tr>\n",
       "    <tr>\n",
       "      <th>3</th>\n",
       "      <td>4.000000</td>\n",
       "      <td>4.329670</td>\n",
       "      <td>0.139063</td>\n",
       "      <td>2017</td>\n",
       "      <td>16</td>\n",
       "      <td>1</td>\n",
       "      <td>5</td>\n",
       "    </tr>\n",
       "    <tr>\n",
       "      <th>4</th>\n",
       "      <td>2.791563</td>\n",
       "      <td>3.287747</td>\n",
       "      <td>0.260926</td>\n",
       "      <td>2015</td>\n",
       "      <td>4</td>\n",
       "      <td>3</td>\n",
       "      <td>5</td>\n",
       "    </tr>\n",
       "    <tr>\n",
       "      <th>...</th>\n",
       "      <td>...</td>\n",
       "      <td>...</td>\n",
       "      <td>...</td>\n",
       "      <td>...</td>\n",
       "      <td>...</td>\n",
       "      <td>...</td>\n",
       "      <td>...</td>\n",
       "    </tr>\n",
       "    <tr>\n",
       "      <th>6994</th>\n",
       "      <td>3.714429</td>\n",
       "      <td>3.501435</td>\n",
       "      <td>0.143056</td>\n",
       "      <td>2016</td>\n",
       "      <td>9</td>\n",
       "      <td>1</td>\n",
       "      <td>5</td>\n",
       "    </tr>\n",
       "    <tr>\n",
       "      <th>6995</th>\n",
       "      <td>4.266667</td>\n",
       "      <td>3.085162</td>\n",
       "      <td>0.133929</td>\n",
       "      <td>2017</td>\n",
       "      <td>1</td>\n",
       "      <td>0</td>\n",
       "      <td>4</td>\n",
       "    </tr>\n",
       "    <tr>\n",
       "      <th>6996</th>\n",
       "      <td>3.111111</td>\n",
       "      <td>4.100000</td>\n",
       "      <td>0.089464</td>\n",
       "      <td>2016</td>\n",
       "      <td>19</td>\n",
       "      <td>1</td>\n",
       "      <td>5</td>\n",
       "    </tr>\n",
       "    <tr>\n",
       "      <th>6997</th>\n",
       "      <td>4.024390</td>\n",
       "      <td>3.814815</td>\n",
       "      <td>0.076042</td>\n",
       "      <td>2017</td>\n",
       "      <td>2</td>\n",
       "      <td>0</td>\n",
       "      <td>1</td>\n",
       "    </tr>\n",
       "    <tr>\n",
       "      <th>6998</th>\n",
       "      <td>3.714429</td>\n",
       "      <td>4.387097</td>\n",
       "      <td>-0.066667</td>\n",
       "      <td>2013</td>\n",
       "      <td>3</td>\n",
       "      <td>0</td>\n",
       "      <td>3</td>\n",
       "    </tr>\n",
       "  </tbody>\n",
       "</table>\n",
       "<p>6965 rows × 7 columns</p>\n",
       "</div>"
      ],
      "text/plain": [
       "      drugName  condition  reviewComment  date  usefulCount  sideEffects  \\\n",
       "0     3.964286   3.789227       0.000000  2012           13            1   \n",
       "1     4.249512   3.444535       0.566667  2009           11            3   \n",
       "2     3.562500   2.839286       0.333333  2017            4            0   \n",
       "3     4.000000   4.329670       0.139063  2017           16            1   \n",
       "4     2.791563   3.287747       0.260926  2015            4            3   \n",
       "...        ...        ...            ...   ...          ...          ...   \n",
       "6994  3.714429   3.501435       0.143056  2016            9            1   \n",
       "6995  4.266667   3.085162       0.133929  2017            1            0   \n",
       "6996  3.111111   4.100000       0.089464  2016           19            1   \n",
       "6997  4.024390   3.814815       0.076042  2017            2            0   \n",
       "6998  3.714429   4.387097      -0.066667  2013            3            0   \n",
       "\n",
       "      rating  \n",
       "0          5  \n",
       "1          4  \n",
       "2          5  \n",
       "3          5  \n",
       "4          5  \n",
       "...      ...  \n",
       "6994       5  \n",
       "6995       4  \n",
       "6996       5  \n",
       "6997       1  \n",
       "6998       3  \n",
       "\n",
       "[6965 rows x 7 columns]"
      ]
     },
     "execution_count": 4,
     "metadata": {},
     "output_type": "execute_result"
    }
   ],
   "source": [
    "train_data "
   ]
  },
  {
   "cell_type": "code",
   "execution_count": 5,
   "id": "020bf8e3",
   "metadata": {},
   "outputs": [
    {
     "data": {
      "text/plain": [
       " 0.000000    314\n",
       " 0.250000     59\n",
       " 0.500000     51\n",
       " 0.200000     50\n",
       " 0.100000     38\n",
       "            ... \n",
       " 0.074286      1\n",
       "-0.091443      1\n",
       " 0.158586      1\n",
       "-0.082407      1\n",
       " 0.076042      1\n",
       "Name: reviewComment, Length: 4753, dtype: int64"
      ]
     },
     "execution_count": 5,
     "metadata": {},
     "output_type": "execute_result"
    }
   ],
   "source": [
    "train_data['reviewComment'].value_counts()"
   ]
  },
  {
   "cell_type": "code",
   "execution_count": 8,
   "id": "c139e161",
   "metadata": {},
   "outputs": [],
   "source": [
    "def comment2num(comment):\n",
    "    if -1<= comment<-0.1:\n",
    "        return -1\n",
    "    elif -0.1<=comment<0.1:\n",
    "        return 0\n",
    "    else:\n",
    "        return 1"
   ]
  },
  {
   "cell_type": "code",
   "execution_count": 9,
   "id": "da8b2072",
   "metadata": {},
   "outputs": [],
   "source": [
    "train_data['reviewComment']=train_data['reviewComment'].map(comment2num)"
   ]
  },
  {
   "cell_type": "code",
   "execution_count": 10,
   "id": "b7fb8e5e",
   "metadata": {},
   "outputs": [
    {
     "data": {
      "text/plain": [
       " 0    2952\n",
       " 1    2864\n",
       "-1    1149\n",
       "Name: reviewComment, dtype: int64"
      ]
     },
     "execution_count": 10,
     "metadata": {},
     "output_type": "execute_result"
    }
   ],
   "source": [
    "train_data['reviewComment'].value_counts()"
   ]
  },
  {
   "cell_type": "code",
   "execution_count": 11,
   "id": "219b69cf",
   "metadata": {},
   "outputs": [
    {
     "data": {
      "text/html": [
       "<div>\n",
       "<style scoped>\n",
       "    .dataframe tbody tr th:only-of-type {\n",
       "        vertical-align: middle;\n",
       "    }\n",
       "\n",
       "    .dataframe tbody tr th {\n",
       "        vertical-align: top;\n",
       "    }\n",
       "\n",
       "    .dataframe thead th {\n",
       "        text-align: right;\n",
       "    }\n",
       "</style>\n",
       "<table border=\"1\" class=\"dataframe\">\n",
       "  <thead>\n",
       "    <tr style=\"text-align: right;\">\n",
       "      <th></th>\n",
       "      <th>drugName</th>\n",
       "      <th>condition</th>\n",
       "      <th>reviewComment</th>\n",
       "      <th>date</th>\n",
       "      <th>usefulCount</th>\n",
       "      <th>sideEffects</th>\n",
       "      <th>rating</th>\n",
       "    </tr>\n",
       "  </thead>\n",
       "  <tbody>\n",
       "    <tr>\n",
       "      <th>0</th>\n",
       "      <td>3.964286</td>\n",
       "      <td>3.789227</td>\n",
       "      <td>0</td>\n",
       "      <td>2012</td>\n",
       "      <td>13</td>\n",
       "      <td>1</td>\n",
       "      <td>5</td>\n",
       "    </tr>\n",
       "    <tr>\n",
       "      <th>1</th>\n",
       "      <td>4.249512</td>\n",
       "      <td>3.444535</td>\n",
       "      <td>1</td>\n",
       "      <td>2009</td>\n",
       "      <td>11</td>\n",
       "      <td>3</td>\n",
       "      <td>4</td>\n",
       "    </tr>\n",
       "    <tr>\n",
       "      <th>2</th>\n",
       "      <td>3.562500</td>\n",
       "      <td>2.839286</td>\n",
       "      <td>1</td>\n",
       "      <td>2017</td>\n",
       "      <td>4</td>\n",
       "      <td>0</td>\n",
       "      <td>5</td>\n",
       "    </tr>\n",
       "    <tr>\n",
       "      <th>3</th>\n",
       "      <td>4.000000</td>\n",
       "      <td>4.329670</td>\n",
       "      <td>1</td>\n",
       "      <td>2017</td>\n",
       "      <td>16</td>\n",
       "      <td>1</td>\n",
       "      <td>5</td>\n",
       "    </tr>\n",
       "    <tr>\n",
       "      <th>4</th>\n",
       "      <td>2.791563</td>\n",
       "      <td>3.287747</td>\n",
       "      <td>1</td>\n",
       "      <td>2015</td>\n",
       "      <td>4</td>\n",
       "      <td>3</td>\n",
       "      <td>5</td>\n",
       "    </tr>\n",
       "    <tr>\n",
       "      <th>...</th>\n",
       "      <td>...</td>\n",
       "      <td>...</td>\n",
       "      <td>...</td>\n",
       "      <td>...</td>\n",
       "      <td>...</td>\n",
       "      <td>...</td>\n",
       "      <td>...</td>\n",
       "    </tr>\n",
       "    <tr>\n",
       "      <th>6994</th>\n",
       "      <td>3.714429</td>\n",
       "      <td>3.501435</td>\n",
       "      <td>1</td>\n",
       "      <td>2016</td>\n",
       "      <td>9</td>\n",
       "      <td>1</td>\n",
       "      <td>5</td>\n",
       "    </tr>\n",
       "    <tr>\n",
       "      <th>6995</th>\n",
       "      <td>4.266667</td>\n",
       "      <td>3.085162</td>\n",
       "      <td>1</td>\n",
       "      <td>2017</td>\n",
       "      <td>1</td>\n",
       "      <td>0</td>\n",
       "      <td>4</td>\n",
       "    </tr>\n",
       "    <tr>\n",
       "      <th>6996</th>\n",
       "      <td>3.111111</td>\n",
       "      <td>4.100000</td>\n",
       "      <td>0</td>\n",
       "      <td>2016</td>\n",
       "      <td>19</td>\n",
       "      <td>1</td>\n",
       "      <td>5</td>\n",
       "    </tr>\n",
       "    <tr>\n",
       "      <th>6997</th>\n",
       "      <td>4.024390</td>\n",
       "      <td>3.814815</td>\n",
       "      <td>0</td>\n",
       "      <td>2017</td>\n",
       "      <td>2</td>\n",
       "      <td>0</td>\n",
       "      <td>1</td>\n",
       "    </tr>\n",
       "    <tr>\n",
       "      <th>6998</th>\n",
       "      <td>3.714429</td>\n",
       "      <td>4.387097</td>\n",
       "      <td>0</td>\n",
       "      <td>2013</td>\n",
       "      <td>3</td>\n",
       "      <td>0</td>\n",
       "      <td>3</td>\n",
       "    </tr>\n",
       "  </tbody>\n",
       "</table>\n",
       "<p>6965 rows × 7 columns</p>\n",
       "</div>"
      ],
      "text/plain": [
       "      drugName  condition  reviewComment  date  usefulCount  sideEffects  \\\n",
       "0     3.964286   3.789227              0  2012           13            1   \n",
       "1     4.249512   3.444535              1  2009           11            3   \n",
       "2     3.562500   2.839286              1  2017            4            0   \n",
       "3     4.000000   4.329670              1  2017           16            1   \n",
       "4     2.791563   3.287747              1  2015            4            3   \n",
       "...        ...        ...            ...   ...          ...          ...   \n",
       "6994  3.714429   3.501435              1  2016            9            1   \n",
       "6995  4.266667   3.085162              1  2017            1            0   \n",
       "6996  3.111111   4.100000              0  2016           19            1   \n",
       "6997  4.024390   3.814815              0  2017            2            0   \n",
       "6998  3.714429   4.387097              0  2013            3            0   \n",
       "\n",
       "      rating  \n",
       "0          5  \n",
       "1          4  \n",
       "2          5  \n",
       "3          5  \n",
       "4          5  \n",
       "...      ...  \n",
       "6994       5  \n",
       "6995       4  \n",
       "6996       5  \n",
       "6997       1  \n",
       "6998       3  \n",
       "\n",
       "[6965 rows x 7 columns]"
      ]
     },
     "execution_count": 11,
     "metadata": {},
     "output_type": "execute_result"
    }
   ],
   "source": [
    "train_data"
   ]
  },
  {
   "cell_type": "code",
   "execution_count": 12,
   "id": "bce859e7",
   "metadata": {},
   "outputs": [],
   "source": [
    "x_new_data=pd.DataFrame(columns=train_data.columns[:-1])\n",
    "y_new_data = pd.DataFrame(columns=[train_data.columns[-1]])\n",
    "smo = SMOTE(random_state=0)"
   ]
  },
  {
   "cell_type": "code",
   "execution_count": 88,
   "id": "e57265cb",
   "metadata": {},
   "outputs": [
    {
     "data": {
      "text/html": [
       "<div>\n",
       "<style scoped>\n",
       "    .dataframe tbody tr th:only-of-type {\n",
       "        vertical-align: middle;\n",
       "    }\n",
       "\n",
       "    .dataframe tbody tr th {\n",
       "        vertical-align: top;\n",
       "    }\n",
       "\n",
       "    .dataframe thead th {\n",
       "        text-align: right;\n",
       "    }\n",
       "</style>\n",
       "<table border=\"1\" class=\"dataframe\">\n",
       "  <thead>\n",
       "    <tr style=\"text-align: right;\">\n",
       "      <th></th>\n",
       "      <th>drugName</th>\n",
       "      <th>condition</th>\n",
       "      <th>reviewComment</th>\n",
       "      <th>date</th>\n",
       "      <th>usefulCount</th>\n",
       "      <th>sideEffects</th>\n",
       "    </tr>\n",
       "  </thead>\n",
       "  <tbody>\n",
       "  </tbody>\n",
       "</table>\n",
       "</div>"
      ],
      "text/plain": [
       "Empty DataFrame\n",
       "Columns: [drugName, condition, reviewComment, date, usefulCount, sideEffects]\n",
       "Index: []"
      ]
     },
     "execution_count": 88,
     "metadata": {},
     "output_type": "execute_result"
    }
   ],
   "source": [
    "x_new_data"
   ]
  },
  {
   "cell_type": "code",
   "execution_count": 89,
   "id": "8e8f6019",
   "metadata": {},
   "outputs": [
    {
     "data": {
      "text/html": [
       "<div>\n",
       "<style scoped>\n",
       "    .dataframe tbody tr th:only-of-type {\n",
       "        vertical-align: middle;\n",
       "    }\n",
       "\n",
       "    .dataframe tbody tr th {\n",
       "        vertical-align: top;\n",
       "    }\n",
       "\n",
       "    .dataframe thead th {\n",
       "        text-align: right;\n",
       "    }\n",
       "</style>\n",
       "<table border=\"1\" class=\"dataframe\">\n",
       "  <thead>\n",
       "    <tr style=\"text-align: right;\">\n",
       "      <th></th>\n",
       "      <th>rating</th>\n",
       "    </tr>\n",
       "  </thead>\n",
       "  <tbody>\n",
       "  </tbody>\n",
       "</table>\n",
       "</div>"
      ],
      "text/plain": [
       "Empty DataFrame\n",
       "Columns: [rating]\n",
       "Index: []"
      ]
     },
     "execution_count": 89,
     "metadata": {},
     "output_type": "execute_result"
    }
   ],
   "source": [
    "y_new_data"
   ]
  },
  {
   "cell_type": "code",
   "execution_count": null,
   "id": "a890c67a",
   "metadata": {
    "scrolled": true
   },
   "outputs": [],
   "source": []
  },
  {
   "cell_type": "code",
   "execution_count": null,
   "id": "5be8cb08",
   "metadata": {
    "scrolled": true
   },
   "outputs": [],
   "source": []
  },
  {
   "cell_type": "code",
   "execution_count": null,
   "id": "fdc347db",
   "metadata": {},
   "outputs": [],
   "source": []
  },
  {
   "cell_type": "code",
   "execution_count": null,
   "id": "447a46cf",
   "metadata": {
    "scrolled": true
   },
   "outputs": [],
   "source": []
  },
  {
   "cell_type": "code",
   "execution_count": null,
   "id": "bfc940a6",
   "metadata": {},
   "outputs": [],
   "source": []
  },
  {
   "cell_type": "code",
   "execution_count": null,
   "id": "53d5af34",
   "metadata": {},
   "outputs": [],
   "source": []
  },
  {
   "cell_type": "code",
   "execution_count": null,
   "id": "08ab0abc",
   "metadata": {
    "scrolled": true
   },
   "outputs": [],
   "source": []
  },
  {
   "cell_type": "code",
   "execution_count": null,
   "id": "772239a2",
   "metadata": {
    "scrolled": true
   },
   "outputs": [],
   "source": []
  },
  {
   "cell_type": "code",
   "execution_count": null,
   "id": "0fa1ce2e",
   "metadata": {},
   "outputs": [],
   "source": []
  },
  {
   "cell_type": "code",
   "execution_count": null,
   "id": "dbb60d1b",
   "metadata": {},
   "outputs": [],
   "source": [
    " "
   ]
  },
  {
   "cell_type": "code",
   "execution_count": null,
   "id": "03b66d44",
   "metadata": {},
   "outputs": [],
   "source": []
  },
  {
   "cell_type": "code",
   "execution_count": 13,
   "id": "e447ba59",
   "metadata": {},
   "outputs": [
    {
     "name": "stderr",
     "output_type": "stream",
     "text": [
      "C:\\Users\\mowan\\AppData\\Local\\Temp/ipykernel_13404/252110807.py:5: FutureWarning: The frame.append method is deprecated and will be removed from pandas in a future version. Use pandas.concat instead.\n",
      "  x_new_data=x_new_data.append(x_train_smo[y_train_smo['rating']==label],ignore_index=True)\n",
      "C:\\Users\\mowan\\AppData\\Local\\Temp/ipykernel_13404/252110807.py:6: FutureWarning: The frame.append method is deprecated and will be removed from pandas in a future version. Use pandas.concat instead.\n",
      "  y_new_data = y_new_data.append(y_train_smo[y_train_smo['rating']==label], ignore_index=True)\n",
      "C:\\Users\\mowan\\AppData\\Local\\Temp/ipykernel_13404/252110807.py:5: FutureWarning: The frame.append method is deprecated and will be removed from pandas in a future version. Use pandas.concat instead.\n",
      "  x_new_data=x_new_data.append(x_train_smo[y_train_smo['rating']==label],ignore_index=True)\n",
      "C:\\Users\\mowan\\AppData\\Local\\Temp/ipykernel_13404/252110807.py:6: FutureWarning: The frame.append method is deprecated and will be removed from pandas in a future version. Use pandas.concat instead.\n",
      "  y_new_data = y_new_data.append(y_train_smo[y_train_smo['rating']==label], ignore_index=True)\n",
      "C:\\Users\\mowan\\AppData\\Local\\Temp/ipykernel_13404/252110807.py:5: FutureWarning: The frame.append method is deprecated and will be removed from pandas in a future version. Use pandas.concat instead.\n",
      "  x_new_data=x_new_data.append(x_train_smo[y_train_smo['rating']==label],ignore_index=True)\n",
      "C:\\Users\\mowan\\AppData\\Local\\Temp/ipykernel_13404/252110807.py:6: FutureWarning: The frame.append method is deprecated and will be removed from pandas in a future version. Use pandas.concat instead.\n",
      "  y_new_data = y_new_data.append(y_train_smo[y_train_smo['rating']==label], ignore_index=True)\n",
      "C:\\Users\\mowan\\AppData\\Local\\Temp/ipykernel_13404/252110807.py:5: FutureWarning: The frame.append method is deprecated and will be removed from pandas in a future version. Use pandas.concat instead.\n",
      "  x_new_data=x_new_data.append(x_train_smo[y_train_smo['rating']==label],ignore_index=True)\n",
      "C:\\Users\\mowan\\AppData\\Local\\Temp/ipykernel_13404/252110807.py:6: FutureWarning: The frame.append method is deprecated and will be removed from pandas in a future version. Use pandas.concat instead.\n",
      "  y_new_data = y_new_data.append(y_train_smo[y_train_smo['rating']==label], ignore_index=True)\n",
      "C:\\Users\\mowan\\AppData\\Local\\Temp/ipykernel_13404/252110807.py:8: FutureWarning: The frame.append method is deprecated and will be removed from pandas in a future version. Use pandas.concat instead.\n",
      "  x_new_data=x_new_data.append(train_data[train_data['rating'] == 5].iloc[:, :-1], ignore_index=True)  # 将标签为5的数据合并\n",
      "C:\\Users\\mowan\\AppData\\Local\\Temp/ipykernel_13404/252110807.py:9: FutureWarning: The frame.append method is deprecated and will be removed from pandas in a future version. Use pandas.concat instead.\n",
      "  y_new_data=y_new_data.append(pd.DataFrame(train_data[train_data['rating'] == 5].iloc[:, -1], columns=['rating']),\n"
     ]
    }
   ],
   "source": [
    "for label in range(1,5):\n",
    "    x_train=train_data[train_data['rating'].isin([label,5])].iloc[:,:-1]\n",
    "    y_train=pd.DataFrame(train_data[train_data['rating'].isin([label,5])].iloc[:,-1],columns=['rating'])\n",
    "    x_train_smo,y_train_smo=smo.fit_resample(x_train,y_train)\n",
    "    x_new_data=x_new_data.append(x_train_smo[y_train_smo['rating']==label],ignore_index=True)\n",
    "    y_new_data = y_new_data.append(y_train_smo[y_train_smo['rating']==label], ignore_index=True)\n",
    "\n",
    "x_new_data=x_new_data.append(train_data[train_data['rating'] == 5].iloc[:, :-1], ignore_index=True)  # 将标签为5的数据合并\n",
    "y_new_data=y_new_data.append(pd.DataFrame(train_data[train_data['rating'] == 5].iloc[:, -1], columns=['rating']),\n",
    "                      ignore_index=True)  # 将标签为5的数据合并"
   ]
  },
  {
   "cell_type": "code",
   "execution_count": 14,
   "id": "0ee50e26",
   "metadata": {
    "scrolled": true
   },
   "outputs": [
    {
     "data": {
      "text/html": [
       "<div>\n",
       "<style scoped>\n",
       "    .dataframe tbody tr th:only-of-type {\n",
       "        vertical-align: middle;\n",
       "    }\n",
       "\n",
       "    .dataframe tbody tr th {\n",
       "        vertical-align: top;\n",
       "    }\n",
       "\n",
       "    .dataframe thead th {\n",
       "        text-align: right;\n",
       "    }\n",
       "</style>\n",
       "<table border=\"1\" class=\"dataframe\">\n",
       "  <thead>\n",
       "    <tr style=\"text-align: right;\">\n",
       "      <th></th>\n",
       "      <th>drugName</th>\n",
       "      <th>condition</th>\n",
       "      <th>reviewComment</th>\n",
       "      <th>date</th>\n",
       "      <th>usefulCount</th>\n",
       "      <th>sideEffects</th>\n",
       "    </tr>\n",
       "  </thead>\n",
       "  <tbody>\n",
       "    <tr>\n",
       "      <th>0</th>\n",
       "      <td>1.876676</td>\n",
       "      <td>3.287747</td>\n",
       "      <td>0</td>\n",
       "      <td>2011</td>\n",
       "      <td>4</td>\n",
       "      <td>4</td>\n",
       "    </tr>\n",
       "    <tr>\n",
       "      <th>1</th>\n",
       "      <td>3.972973</td>\n",
       "      <td>2.889166</td>\n",
       "      <td>-1</td>\n",
       "      <td>2017</td>\n",
       "      <td>11</td>\n",
       "      <td>2</td>\n",
       "    </tr>\n",
       "    <tr>\n",
       "      <th>2</th>\n",
       "      <td>4.333333</td>\n",
       "      <td>4.32967</td>\n",
       "      <td>0</td>\n",
       "      <td>2014</td>\n",
       "      <td>18</td>\n",
       "      <td>1</td>\n",
       "    </tr>\n",
       "    <tr>\n",
       "      <th>3</th>\n",
       "      <td>3.55</td>\n",
       "      <td>3.636364</td>\n",
       "      <td>0</td>\n",
       "      <td>2015</td>\n",
       "      <td>17</td>\n",
       "      <td>3</td>\n",
       "    </tr>\n",
       "    <tr>\n",
       "      <th>4</th>\n",
       "      <td>3.7</td>\n",
       "      <td>3.636364</td>\n",
       "      <td>1</td>\n",
       "      <td>2016</td>\n",
       "      <td>10</td>\n",
       "      <td>2</td>\n",
       "    </tr>\n",
       "    <tr>\n",
       "      <th>...</th>\n",
       "      <td>...</td>\n",
       "      <td>...</td>\n",
       "      <td>...</td>\n",
       "      <td>...</td>\n",
       "      <td>...</td>\n",
       "      <td>...</td>\n",
       "    </tr>\n",
       "    <tr>\n",
       "      <th>17055</th>\n",
       "      <td>4.266666</td>\n",
       "      <td>4.136364</td>\n",
       "      <td>0</td>\n",
       "      <td>2015</td>\n",
       "      <td>18</td>\n",
       "      <td>1</td>\n",
       "    </tr>\n",
       "    <tr>\n",
       "      <th>17056</th>\n",
       "      <td>4.055556</td>\n",
       "      <td>3.287747</td>\n",
       "      <td>1</td>\n",
       "      <td>2011</td>\n",
       "      <td>2</td>\n",
       "      <td>1</td>\n",
       "    </tr>\n",
       "    <tr>\n",
       "      <th>17057</th>\n",
       "      <td>4.5</td>\n",
       "      <td>4.344828</td>\n",
       "      <td>0</td>\n",
       "      <td>2010</td>\n",
       "      <td>3</td>\n",
       "      <td>2</td>\n",
       "    </tr>\n",
       "    <tr>\n",
       "      <th>17058</th>\n",
       "      <td>3.714429</td>\n",
       "      <td>3.501435</td>\n",
       "      <td>1</td>\n",
       "      <td>2016</td>\n",
       "      <td>9</td>\n",
       "      <td>1</td>\n",
       "    </tr>\n",
       "    <tr>\n",
       "      <th>17059</th>\n",
       "      <td>3.111111</td>\n",
       "      <td>4.1</td>\n",
       "      <td>0</td>\n",
       "      <td>2016</td>\n",
       "      <td>19</td>\n",
       "      <td>1</td>\n",
       "    </tr>\n",
       "  </tbody>\n",
       "</table>\n",
       "<p>17060 rows × 6 columns</p>\n",
       "</div>"
      ],
      "text/plain": [
       "       drugName condition reviewComment  date usefulCount sideEffects\n",
       "0      1.876676  3.287747             0  2011           4           4\n",
       "1      3.972973  2.889166            -1  2017          11           2\n",
       "2      4.333333   4.32967             0  2014          18           1\n",
       "3          3.55  3.636364             0  2015          17           3\n",
       "4           3.7  3.636364             1  2016          10           2\n",
       "...         ...       ...           ...   ...         ...         ...\n",
       "17055  4.266666  4.136364             0  2015          18           1\n",
       "17056  4.055556  3.287747             1  2011           2           1\n",
       "17057       4.5  4.344828             0  2010           3           2\n",
       "17058  3.714429  3.501435             1  2016           9           1\n",
       "17059  3.111111       4.1             0  2016          19           1\n",
       "\n",
       "[17060 rows x 6 columns]"
      ]
     },
     "execution_count": 14,
     "metadata": {},
     "output_type": "execute_result"
    }
   ],
   "source": [
    "x_new_data"
   ]
  },
  {
   "cell_type": "code",
   "execution_count": 15,
   "id": "a0ff4056",
   "metadata": {
    "scrolled": true
   },
   "outputs": [
    {
     "data": {
      "text/html": [
       "<div>\n",
       "<style scoped>\n",
       "    .dataframe tbody tr th:only-of-type {\n",
       "        vertical-align: middle;\n",
       "    }\n",
       "\n",
       "    .dataframe tbody tr th {\n",
       "        vertical-align: top;\n",
       "    }\n",
       "\n",
       "    .dataframe thead th {\n",
       "        text-align: right;\n",
       "    }\n",
       "</style>\n",
       "<table border=\"1\" class=\"dataframe\">\n",
       "  <thead>\n",
       "    <tr style=\"text-align: right;\">\n",
       "      <th></th>\n",
       "      <th>rating</th>\n",
       "    </tr>\n",
       "  </thead>\n",
       "  <tbody>\n",
       "    <tr>\n",
       "      <th>0</th>\n",
       "      <td>1</td>\n",
       "    </tr>\n",
       "    <tr>\n",
       "      <th>1</th>\n",
       "      <td>1</td>\n",
       "    </tr>\n",
       "    <tr>\n",
       "      <th>2</th>\n",
       "      <td>1</td>\n",
       "    </tr>\n",
       "    <tr>\n",
       "      <th>3</th>\n",
       "      <td>1</td>\n",
       "    </tr>\n",
       "    <tr>\n",
       "      <th>4</th>\n",
       "      <td>1</td>\n",
       "    </tr>\n",
       "    <tr>\n",
       "      <th>...</th>\n",
       "      <td>...</td>\n",
       "    </tr>\n",
       "    <tr>\n",
       "      <th>17055</th>\n",
       "      <td>5</td>\n",
       "    </tr>\n",
       "    <tr>\n",
       "      <th>17056</th>\n",
       "      <td>5</td>\n",
       "    </tr>\n",
       "    <tr>\n",
       "      <th>17057</th>\n",
       "      <td>5</td>\n",
       "    </tr>\n",
       "    <tr>\n",
       "      <th>17058</th>\n",
       "      <td>5</td>\n",
       "    </tr>\n",
       "    <tr>\n",
       "      <th>17059</th>\n",
       "      <td>5</td>\n",
       "    </tr>\n",
       "  </tbody>\n",
       "</table>\n",
       "<p>17060 rows × 1 columns</p>\n",
       "</div>"
      ],
      "text/plain": [
       "      rating\n",
       "0          1\n",
       "1          1\n",
       "2          1\n",
       "3          1\n",
       "4          1\n",
       "...      ...\n",
       "17055      5\n",
       "17056      5\n",
       "17057      5\n",
       "17058      5\n",
       "17059      5\n",
       "\n",
       "[17060 rows x 1 columns]"
      ]
     },
     "execution_count": 15,
     "metadata": {},
     "output_type": "execute_result"
    }
   ],
   "source": [
    "y_new_data"
   ]
  },
  {
   "cell_type": "code",
   "execution_count": null,
   "id": "e97ddaca",
   "metadata": {},
   "outputs": [],
   "source": []
  },
  {
   "cell_type": "code",
   "execution_count": null,
   "id": "a8391de7",
   "metadata": {},
   "outputs": [],
   "source": []
  },
  {
   "cell_type": "code",
   "execution_count": null,
   "id": "f5111e36",
   "metadata": {},
   "outputs": [],
   "source": []
  },
  {
   "cell_type": "code",
   "execution_count": null,
   "id": "83126d7c",
   "metadata": {},
   "outputs": [],
   "source": []
  },
  {
   "cell_type": "code",
   "execution_count": 95,
   "id": "88bd6e5d",
   "metadata": {},
   "outputs": [
    {
     "data": {
      "text/plain": [
       "array([[1.8766758142510356, 3.2877470355731226, -0.005888888888888877,\n",
       "        2011, 4, 4],\n",
       "       [3.972972972972973, 2.889165733969873, -0.16666666666666666, 2017,\n",
       "        11, 2],\n",
       "       [4.333333333269822, 4.329670329670329, 0.07499999999999998, 2014,\n",
       "        18, 1],\n",
       "       ...,\n",
       "       [4.499999967477863, 4.344827586206462, -0.04243197278911565, 2010,\n",
       "        3, 2],\n",
       "       [3.714429289303661, 3.50143514326711, 0.14305555555555557, 2016,\n",
       "        9, 1],\n",
       "       [3.1111111360881067, 4.1, 0.08946428571428575, 2016, 19, 1]],\n",
       "      dtype=object)"
      ]
     },
     "execution_count": 95,
     "metadata": {},
     "output_type": "execute_result"
    }
   ],
   "source": []
  },
  {
   "cell_type": "code",
   "execution_count": 16,
   "id": "73baf5a8",
   "metadata": {},
   "outputs": [
    {
     "data": {
      "text/plain": [
       "array([1, 2, 3, 4, 5], dtype=object)"
      ]
     },
     "execution_count": 16,
     "metadata": {},
     "output_type": "execute_result"
    }
   ],
   "source": [
    "y_new_data['rating'].unique()"
   ]
  },
  {
   "cell_type": "code",
   "execution_count": 17,
   "id": "eb006526",
   "metadata": {
    "scrolled": true
   },
   "outputs": [
    {
     "name": "stderr",
     "output_type": "stream",
     "text": [
      "F:\\SoftwareInstall\\Anaconda\\envs\\pytorch\\lib\\site-packages\\xgboost\\sklearn.py:1224: UserWarning: The use of label encoder in XGBClassifier is deprecated and will be removed in a future release. To remove this warning, do the following: 1) Pass option use_label_encoder=False when constructing XGBClassifier object; and 2) Encode your labels (y) as integers starting with 0, i.e. 0, 1, 2, ..., [num_class - 1].\n",
      "  warnings.warn(label_encoder_deprecation_msg, UserWarning)\n",
      "F:\\SoftwareInstall\\Anaconda\\envs\\pytorch\\lib\\site-packages\\sklearn\\preprocessing\\_label.py:98: DataConversionWarning: A column-vector y was passed when a 1d array was expected. Please change the shape of y to (n_samples, ), for example using ravel().\n",
      "  y = column_or_1d(y, warn=True)\n",
      "F:\\SoftwareInstall\\Anaconda\\envs\\pytorch\\lib\\site-packages\\sklearn\\preprocessing\\_label.py:133: DataConversionWarning: A column-vector y was passed when a 1d array was expected. Please change the shape of y to (n_samples, ), for example using ravel().\n",
      "  y = column_or_1d(y, warn=True)\n"
     ]
    },
    {
     "name": "stdout",
     "output_type": "stream",
     "text": [
      "[13:16:24] WARNING: ..\\src\\learner.cc:576: \n",
      "Parameters: { \"early_stopping_rounds\" } might not be used.\n",
      "\n",
      "  This could be a false alarm, with some parameters getting used by language bindings but\n",
      "  then being mistakenly passed down to XGBoost core, or some parameter actually being used\n",
      "  but getting flagged wrongly here. Please open an issue if you find any such cases.\n",
      "\n",
      "\n",
      "[13:16:24] WARNING: ..\\src\\learner.cc:1115: Starting in XGBoost 1.3.0, the default evaluation metric used with the objective 'multi:softprob' was changed from 'merror' to 'mlogloss'. Explicitly set eval_metric if you'd like to restore the old behavior.\n"
     ]
    }
   ],
   "source": [
    "xgb_model = xgb_train(x_new_data.values, y_new_data.values)"
   ]
  },
  {
   "cell_type": "code",
   "execution_count": 18,
   "id": "ee3e425c",
   "metadata": {},
   "outputs": [
    {
     "data": {
      "text/plain": [
       "array([1, 1, 5, ..., 5, 5, 5], dtype=object)"
      ]
     },
     "execution_count": 18,
     "metadata": {},
     "output_type": "execute_result"
    }
   ],
   "source": [
    "\n",
    "train_pred = xgb_model.predict(x_new_data.values)\n",
    "train_pred"
   ]
  },
  {
   "cell_type": "code",
   "execution_count": 19,
   "id": "9cf814c2",
   "metadata": {},
   "outputs": [],
   "source": [
    "pred=train_pred.tolist()"
   ]
  },
  {
   "cell_type": "code",
   "execution_count": 20,
   "id": "e3d6f1fb",
   "metadata": {},
   "outputs": [],
   "source": [
    "y=y_new_data['rating'].values.tolist()"
   ]
  },
  {
   "cell_type": "code",
   "execution_count": 21,
   "id": "909b9e5b",
   "metadata": {},
   "outputs": [
    {
     "data": {
      "text/plain": [
       "{1, 2, 3, 4, 5}"
      ]
     },
     "execution_count": 21,
     "metadata": {},
     "output_type": "execute_result"
    }
   ],
   "source": [
    "set(train_pred.tolist())"
   ]
  },
  {
   "cell_type": "code",
   "execution_count": 22,
   "id": "74558504",
   "metadata": {},
   "outputs": [
    {
     "data": {
      "text/plain": [
       "{1, 2, 3, 4, 5}"
      ]
     },
     "execution_count": 22,
     "metadata": {},
     "output_type": "execute_result"
    }
   ],
   "source": [
    "set(y_new_data['rating'].values.tolist())"
   ]
  },
  {
   "cell_type": "code",
   "execution_count": 23,
   "id": "3bebe0e0",
   "metadata": {},
   "outputs": [
    {
     "name": "stdout",
     "output_type": "stream",
     "text": [
      "Training score:\n",
      "              precision    recall  f1-score   support\n",
      "\n",
      "           1       0.91      0.89      0.90      3412\n",
      "           2       0.91      0.94      0.93      3412\n",
      "           3       0.90      0.93      0.91      3412\n",
      "           4       0.94      0.87      0.90      3412\n",
      "           5       0.89      0.91      0.90      3412\n",
      "\n",
      "    accuracy                           0.91     17060\n",
      "   macro avg       0.91      0.91      0.91     17060\n",
      "weighted avg       0.91      0.91      0.91     17060\n",
      "\n",
      "Precision_mac: 0.90873, Recall_mac: 0.90803, F1_mac: 0.90791 \n",
      "Precision_mic: 0.90803, Recall_mic: 0.90803, F1_mic: 0.90803 \n"
     ]
    }
   ],
   "source": [
    "print('Training score:')\n",
    "train_score = print_precison_recall_f1(y, pred)"
   ]
  },
  {
   "cell_type": "code",
   "execution_count": 24,
   "id": "f715a38a",
   "metadata": {},
   "outputs": [
    {
     "name": "stdout",
     "output_type": "stream",
     "text": [
      "dataprocess:\n"
     ]
    },
    {
     "name": "stderr",
     "output_type": "stream",
     "text": [
      "F:\\SoftwareInstall\\Anaconda\\envs\\pytorch\\lib\\site-packages\\category_encoders\\utils.py:21: FutureWarning: is_categorical is deprecated and will be removed in a future version. Use is_categorical_dtype instead.\n",
      "  elif pd.api.types.is_categorical(cols):\n",
      "F:\\SoftwareInstall\\Anaconda\\envs\\pytorch\\lib\\site-packages\\category_encoders\\utils.py:21: FutureWarning: is_categorical is deprecated and will be removed in a future version. Use is_categorical_dtype instead.\n",
      "  elif pd.api.types.is_categorical(cols):\n"
     ]
    }
   ],
   "source": [
    "val_data=get_data(val_path)\n",
    "x_val=val_data.iloc[:,:-1]\n",
    "y_val=val_data.iloc[:,-1]"
   ]
  },
  {
   "cell_type": "code",
   "execution_count": null,
   "id": "b2457813",
   "metadata": {},
   "outputs": [],
   "source": []
  },
  {
   "cell_type": "code",
   "execution_count": 25,
   "id": "a38fcbb6",
   "metadata": {},
   "outputs": [],
   "source": [
    "val_pred = xgb_model.predict(x_val)\n",
    "val_pred=val_pred.tolist()\n",
    "y_val=y_val.tolist()"
   ]
  },
  {
   "cell_type": "code",
   "execution_count": 26,
   "id": "5ef87de7",
   "metadata": {},
   "outputs": [
    {
     "name": "stdout",
     "output_type": "stream",
     "text": [
      "Validation score:\n",
      "              precision    recall  f1-score   support\n",
      "\n",
      "           1       0.45      0.45      0.45       225\n",
      "           2       0.08      0.23      0.12        82\n",
      "           3       0.12      0.23      0.16       103\n",
      "           4       0.21      0.28      0.24       192\n",
      "           5       0.79      0.38      0.51       592\n",
      "\n",
      "    accuracy                           0.35      1194\n",
      "   macro avg       0.33      0.31      0.30      1194\n",
      "weighted avg       0.53      0.35      0.40      1194\n",
      "\n",
      "Precision_mac: 0.33143, Recall_mac: 0.31465, F1_mac: 0.29669 \n",
      "Precision_mic: 0.35343, Recall_mic: 0.35343, F1_mic: 0.35343 \n"
     ]
    }
   ],
   "source": [
    "print('Validation score:')\n",
    "val_score = print_precison_recall_f1(y_val, val_pred)"
   ]
  }
 ],
 "metadata": {
  "kernelspec": {
   "display_name": "Python [conda env:pytorch] *",
   "language": "python",
   "name": "conda-env-pytorch-py"
  },
  "language_info": {
   "codemirror_mode": {
    "name": "ipython",
    "version": 3
   },
   "file_extension": ".py",
   "mimetype": "text/x-python",
   "name": "python",
   "nbconvert_exporter": "python",
   "pygments_lexer": "ipython3",
   "version": "3.9.7"
  }
 },
 "nbformat": 4,
 "nbformat_minor": 5
}
